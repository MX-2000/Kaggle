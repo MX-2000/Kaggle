{
 "cells": [
  {
   "cell_type": "markdown",
   "id": "a3f971e9",
   "metadata": {
    "papermill": {
     "duration": 0.010863,
     "end_time": "2024-09-27T07:22:04.534573",
     "exception": false,
     "start_time": "2024-09-27T07:22:04.523710",
     "status": "completed"
    },
    "tags": []
   },
   "source": [
    "# Benchmarking with fe_engine v1"
   ]
  },
  {
   "cell_type": "code",
   "execution_count": 1,
   "id": "434a188c",
   "metadata": {
    "execution": {
     "iopub.execute_input": "2024-09-27T07:22:04.556058Z",
     "iopub.status.busy": "2024-09-27T07:22:04.555454Z",
     "iopub.status.idle": "2024-09-27T07:22:07.955862Z",
     "shell.execute_reply": "2024-09-27T07:22:07.954539Z"
    },
    "papermill": {
     "duration": 3.414736,
     "end_time": "2024-09-27T07:22:07.958886",
     "exception": false,
     "start_time": "2024-09-27T07:22:04.544150",
     "status": "completed"
    },
    "tags": []
   },
   "outputs": [],
   "source": [
    "from sklearn.model_selection import train_test_split, cross_val_score\n",
    "from sklearn.impute import SimpleImputer\n",
    "from sklearn.preprocessing import OrdinalEncoder, OneHotEncoder\n",
    "from sklearn.pipeline import Pipeline\n",
    "from sklearn.compose import ColumnTransformer\n",
    "from sklearn.metrics import mean_squared_error\n",
    "import pandas as pd\n",
    "import numpy as np\n",
    "import category_encoders as ce"
   ]
  },
  {
   "cell_type": "markdown",
   "id": "e4490071",
   "metadata": {
    "papermill": {
     "duration": 0.009536,
     "end_time": "2024-09-27T07:22:07.978357",
     "exception": false,
     "start_time": "2024-09-27T07:22:07.968821",
     "status": "completed"
    },
    "tags": []
   },
   "source": [
    "In this notebook my goal is to benchmark multiple regression models on the dataset with as little data cleaning as required. \n"
   ]
  },
  {
   "cell_type": "code",
   "execution_count": 2,
   "id": "dea1d378",
   "metadata": {
    "execution": {
     "iopub.execute_input": "2024-09-27T07:22:08.000368Z",
     "iopub.status.busy": "2024-09-27T07:22:07.999532Z",
     "iopub.status.idle": "2024-09-27T07:22:09.826368Z",
     "shell.execute_reply": "2024-09-27T07:22:09.824955Z"
    },
    "papermill": {
     "duration": 1.841426,
     "end_time": "2024-09-27T07:22:09.829795",
     "exception": false,
     "start_time": "2024-09-27T07:22:07.988369",
     "status": "completed"
    },
    "tags": []
   },
   "outputs": [],
   "source": [
    "og_train = pd.read_csv(\"/kaggle/input/playground-series-s4e9/train.csv\", index_col=\"id\")\n",
    "og_test = pd.read_csv(\"/kaggle/input/playground-series-s4e9/test.csv\", index_col=\"id\")"
   ]
  },
  {
   "cell_type": "code",
   "execution_count": 3,
   "id": "cf26f79a",
   "metadata": {
    "execution": {
     "iopub.execute_input": "2024-09-27T07:22:09.852403Z",
     "iopub.status.busy": "2024-09-27T07:22:09.851920Z",
     "iopub.status.idle": "2024-09-27T07:22:09.858332Z",
     "shell.execute_reply": "2024-09-27T07:22:09.856809Z"
    },
    "papermill": {
     "duration": 0.021459,
     "end_time": "2024-09-27T07:22:09.861365",
     "exception": false,
     "start_time": "2024-09-27T07:22:09.839906",
     "status": "completed"
    },
    "tags": []
   },
   "outputs": [],
   "source": [
    "engine_re = r'(?:(\\d+\\.?\\d*)HP)? ?(?:(\\d+\\.?\\d*)(?:L| Liter))? ?((?:Straight)? ?(?:V\\d+ ?(?:Cylinder)?|\\d+ Cylinder|I\\d+|H\\d+|Flat ?\\d+|W\\d+))? ?(?:(\\d+)V)? ?(DDI|GDI|PFI|MPFI|SIDI|PDI)? ?(OHV|DOHC|SOHC)? ?(Turbo|Twin Turbo|Supercharged|TFSI|T\\/C|TSI)? ?(?:Engine)? ?(?:(\\d+\\.?\\d*) ?A[hH])?[ \\/]*(?:FR ?(\\d+\\.?\\d*)kW)?[ \\/]*(?:RR ?(\\d+\\.?\\d*)kW)?[ \\/]?(?:\\((\\d+)V?\\))?(.*)'"
   ]
  },
  {
   "cell_type": "code",
   "execution_count": 4,
   "id": "0c6cb740",
   "metadata": {
    "execution": {
     "iopub.execute_input": "2024-09-27T07:22:09.882747Z",
     "iopub.status.busy": "2024-09-27T07:22:09.882243Z",
     "iopub.status.idle": "2024-09-27T07:22:09.891280Z",
     "shell.execute_reply": "2024-09-27T07:22:09.889915Z"
    },
    "papermill": {
     "duration": 0.022812,
     "end_time": "2024-09-27T07:22:09.893756",
     "exception": false,
     "start_time": "2024-09-27T07:22:09.870944",
     "status": "completed"
    },
    "tags": []
   },
   "outputs": [],
   "source": [
    "def extract_engine_features(df): \n",
    "    extracted_features = [\"HP\",\"L\",\"Cylinders\",\"Valves\",\"Fuel_injection\",\"Valve_train_design\",\"Forced_induction\",\"Ah\",\"FRKW\",\"RRKW\",\"Volts\",\"Engine_type\"]\n",
    "    df = df.copy()\n",
    "    df_extracted = df[\"engine\"].str.extract(engine_re)\n",
    "    df_extracted.columns = extracted_features\n",
    "    \n",
    "    #Clean value types\n",
    "    float_feat = [\"HP\",\"L\",\"Valves\",\"Ah\",\"FRKW\",\"RRKW\",\"Volts\"]\n",
    "    for feat in float_feat: \n",
    "        df_extracted[feat] = df_extracted[feat].astype(float)\n",
    "    \n",
    "    df = df.join(df_extracted)\n",
    "    \n",
    "    df = df.drop(\"engine\", axis=1)\n",
    "    \n",
    "    return df"
   ]
  },
  {
   "cell_type": "code",
   "execution_count": 5,
   "id": "7d5bd6eb",
   "metadata": {
    "execution": {
     "iopub.execute_input": "2024-09-27T07:22:09.915196Z",
     "iopub.status.busy": "2024-09-27T07:22:09.914633Z",
     "iopub.status.idle": "2024-09-27T07:22:09.922961Z",
     "shell.execute_reply": "2024-09-27T07:22:09.921658Z"
    },
    "papermill": {
     "duration": 0.022169,
     "end_time": "2024-09-27T07:22:09.925416",
     "exception": false,
     "start_time": "2024-09-27T07:22:09.903247",
     "status": "completed"
    },
    "tags": []
   },
   "outputs": [],
   "source": [
    "def fe_accident(df): \n",
    "    accident_map = {\n",
    "        \"None reported\": 0,\n",
    "        \"At least 1 accident or damage reported\": 1\n",
    "    }\n",
    "    df = df.copy()\n",
    "    \n",
    "    # more than 50% of vehicules with a milage > 175k have accidents\n",
    "    df.loc[(df.accident.isna()) & (df.milage > 175_000), \"accident\"] = \"At least 1 accident or damage reported\"\n",
    "    df[\"accident\"] = df[\"accident\"].fillna(\"None reported\")\n",
    "    df[\"accident\"] = df[\"accident\"].map(accident_map)\n",
    "    \n",
    "    return df"
   ]
  },
  {
   "cell_type": "code",
   "execution_count": 6,
   "id": "935da9fb",
   "metadata": {
    "execution": {
     "iopub.execute_input": "2024-09-27T07:22:09.947217Z",
     "iopub.status.busy": "2024-09-27T07:22:09.946709Z",
     "iopub.status.idle": "2024-09-27T07:22:09.953971Z",
     "shell.execute_reply": "2024-09-27T07:22:09.952414Z"
    },
    "papermill": {
     "duration": 0.02185,
     "end_time": "2024-09-27T07:22:09.957040",
     "exception": false,
     "start_time": "2024-09-27T07:22:09.935190",
     "status": "completed"
    },
    "tags": []
   },
   "outputs": [],
   "source": [
    "def fe_clean_title(df):\n",
    "    df = df.copy()\n",
    "    df[\"clean_title\"] = df[\"clean_title\"].fillna(\"No\")\n",
    "    df[\"clean_title\"] = df[\"clean_title\"].map({\"No\": 0, \"Yes\": 1})\n",
    "    \n",
    "    return df"
   ]
  },
  {
   "cell_type": "code",
   "execution_count": 7,
   "id": "545e0f01",
   "metadata": {
    "execution": {
     "iopub.execute_input": "2024-09-27T07:22:09.979423Z",
     "iopub.status.busy": "2024-09-27T07:22:09.978906Z",
     "iopub.status.idle": "2024-09-27T07:22:09.986861Z",
     "shell.execute_reply": "2024-09-27T07:22:09.985535Z"
    },
    "papermill": {
     "duration": 0.022103,
     "end_time": "2024-09-27T07:22:09.989464",
     "exception": false,
     "start_time": "2024-09-27T07:22:09.967361",
     "status": "completed"
    },
    "tags": []
   },
   "outputs": [],
   "source": [
    "def feature_engineering(train, test): \n",
    "    fe_train = train.copy()\n",
    "    fe_test = test.copy()\n",
    "    \n",
    "    fe_train = extract_engine_features(fe_train)\n",
    "    fe_test = extract_engine_features(fe_test)\n",
    "\n",
    "\n",
    "    fe_train = fe_accident(fe_train)\n",
    "    fe_test = fe_accident(fe_test)\n",
    "    \n",
    "    fe_train = fe_clean_title(fe_train)\n",
    "    fe_test = fe_clean_title(fe_test)\n",
    "    \n",
    "    \n",
    "    \n",
    "    return fe_train, fe_test\n",
    "    "
   ]
  },
  {
   "cell_type": "code",
   "execution_count": 8,
   "id": "20fbbc38",
   "metadata": {
    "execution": {
     "iopub.execute_input": "2024-09-27T07:22:10.010871Z",
     "iopub.status.busy": "2024-09-27T07:22:10.010382Z",
     "iopub.status.idle": "2024-09-27T07:22:14.337546Z",
     "shell.execute_reply": "2024-09-27T07:22:14.336167Z"
    },
    "papermill": {
     "duration": 4.341338,
     "end_time": "2024-09-27T07:22:14.340431",
     "exception": false,
     "start_time": "2024-09-27T07:22:09.999093",
     "status": "completed"
    },
    "tags": []
   },
   "outputs": [],
   "source": [
    "train, test = feature_engineering(og_train, og_test)"
   ]
  },
  {
   "cell_type": "markdown",
   "id": "9778ffe2",
   "metadata": {
    "execution": {
     "iopub.execute_input": "2024-09-26T16:49:32.557411Z",
     "iopub.status.busy": "2024-09-26T16:49:32.556998Z",
     "iopub.status.idle": "2024-09-26T16:49:32.634544Z",
     "shell.execute_reply": "2024-09-26T16:49:32.633062Z",
     "shell.execute_reply.started": "2024-09-26T16:49:32.557369Z"
    },
    "papermill": {
     "duration": 0.010468,
     "end_time": "2024-09-27T07:22:14.360470",
     "exception": false,
     "start_time": "2024-09-27T07:22:14.350002",
     "status": "completed"
    },
    "tags": []
   },
   "source": [
    "train[(train[\"fuel_type\"].isna()) & (train[\"Engine_type\"].isin([\"\",'–']))].head()"
   ]
  },
  {
   "cell_type": "code",
   "execution_count": 9,
   "id": "a7d7d813",
   "metadata": {
    "execution": {
     "iopub.execute_input": "2024-09-27T07:22:14.381484Z",
     "iopub.status.busy": "2024-09-27T07:22:14.381023Z",
     "iopub.status.idle": "2024-09-27T07:22:14.388246Z",
     "shell.execute_reply": "2024-09-27T07:22:14.387049Z"
    },
    "papermill": {
     "duration": 0.020654,
     "end_time": "2024-09-27T07:22:14.390678",
     "exception": false,
     "start_time": "2024-09-27T07:22:14.370024",
     "status": "completed"
    },
    "tags": []
   },
   "outputs": [],
   "source": [
    "unused_cols = [\"price\"]\n",
    "ordinal_cols = [\"model\",\"ext_col\",\"int_col\"]\n",
    "num_cols_mean = [\"model_year\",\"milage\", \"HP\"]\n",
    "num_cols_zero = [\"L\",\"Valves\",\"Ah\",\"FRKW\",\"RRKW\",\"Volts\"]\n",
    "target_encode_cols = []\n",
    "one_hot_cols = [\"fuel_type\",\"transmission\",\"Cylinders\",\"Fuel_injection\",\"Valve_train_design\",\"Forced_induction\",\"Engine_type\"]"
   ]
  },
  {
   "cell_type": "code",
   "execution_count": 10,
   "id": "36c0b768",
   "metadata": {
    "execution": {
     "iopub.execute_input": "2024-09-27T07:22:14.412188Z",
     "iopub.status.busy": "2024-09-27T07:22:14.411202Z",
     "iopub.status.idle": "2024-09-27T07:22:14.454966Z",
     "shell.execute_reply": "2024-09-27T07:22:14.453582Z"
    },
    "papermill": {
     "duration": 0.058057,
     "end_time": "2024-09-27T07:22:14.458070",
     "exception": false,
     "start_time": "2024-09-27T07:22:14.400013",
     "status": "completed"
    },
    "tags": []
   },
   "outputs": [],
   "source": [
    "num_mean_pipeline = Pipeline(steps=[\n",
    "    (\"imputer\", SimpleImputer(strategy=\"mean\"))\n",
    "])\n",
    "num_zero_pipeline = Pipeline(steps=[\n",
    "    (\"imputer\", SimpleImputer(strategy=\"constant\", fill_value=0))\n",
    "])\n",
    "# So we keep an order in the brand encoding\n",
    "mean_brand_prices = train.groupby(\"brand\")[\"price\"].mean()\n",
    "brand_sorted = mean_brand_prices.sort_values(ascending=True)\n",
    "brand_sorted = brand_sorted.reset_index()\n",
    "sorted_brands = brand_sorted[\"brand\"].tolist()\n",
    "\n",
    "brand_pipeline = Pipeline(steps=[\n",
    "    (\"encoder\", OrdinalEncoder(categories=[sorted_brands]))\n",
    "])\n",
    "\n",
    "cat_ord_pipeline = Pipeline(steps=[\n",
    "    (\"imputer\", SimpleImputer(strategy=\"most_frequent\")),\n",
    "    (\"encoder_ord\", OrdinalEncoder(handle_unknown='use_encoded_value', unknown_value=-1))\n",
    "])\n",
    "cat_one_hot_pipeline = Pipeline(steps=[\n",
    "    (\"imputer\", SimpleImputer(strategy=\"most_frequent\")),\n",
    "    (\"encoder_onehot\", OneHotEncoder(handle_unknown=\"ignore\", sparse_output=False))\n",
    "])\n",
    "target_encode_pipeline = Pipeline(steps=[\n",
    "    (\"target_encoder\", ce.TargetEncoder())\n",
    "])\n",
    "\n",
    "passthrough = False \n",
    "if passthrough: \n",
    "    preprocessor = ColumnTransformer(transformers=[\n",
    "        (\"num_mean\", num_mean_pipeline, num_cols_mean),\n",
    "        (\"num_zero\", num_zero_pipeline, num_cols_zero),\n",
    "        (\"target_enc\", target_encode_pipeline, target_encode_cols),\n",
    "        (\"cat_ord\", cat_ord_pipeline, ordinal_cols),\n",
    "        (\"cat_onehot\", cat_one_hot_pipeline, one_hot_cols),\n",
    "        (\"brand\",brand_pipeline, [\"brand\"]),\n",
    "        (\"passthrough\", \"passthrough\", unused_cols)\n",
    "    ])\n",
    "else: \n",
    "    preprocessor = ColumnTransformer(transformers=[\n",
    "        (\"num_mean\", num_mean_pipeline, num_cols_mean),\n",
    "        (\"num_zero\", num_zero_pipeline, num_cols_zero),\n",
    "        (\"target_enc\", target_encode_pipeline, target_encode_cols),\n",
    "        (\"cat_ord\", cat_ord_pipeline, ordinal_cols),\n",
    "        (\"cat_onehot\", cat_one_hot_pipeline, one_hot_cols),\n",
    "        (\"brand\",brand_pipeline, [\"brand\"])\n",
    "    ])"
   ]
  },
  {
   "cell_type": "code",
   "execution_count": 11,
   "id": "28e8942d",
   "metadata": {
    "execution": {
     "iopub.execute_input": "2024-09-27T07:22:14.480020Z",
     "iopub.status.busy": "2024-09-27T07:22:14.479516Z",
     "iopub.status.idle": "2024-09-27T07:22:14.487660Z",
     "shell.execute_reply": "2024-09-27T07:22:14.486202Z"
    },
    "papermill": {
     "duration": 0.02221,
     "end_time": "2024-09-27T07:22:14.490530",
     "exception": false,
     "start_time": "2024-09-27T07:22:14.468320",
     "status": "completed"
    },
    "tags": []
   },
   "outputs": [],
   "source": [
    "if passthrough: \n",
    "    \n",
    "    preprocessed_train = preprocessor.fit_transform(train, train[\"price\"])\n",
    "    one_hot_encoder = preprocessor.named_transformers_[\"cat_onehot\"]\n",
    "    onehot_features_names = one_hot_encoder.get_feature_names_out(one_hot_cols)\n",
    "    all_feature_names = num_cols_mean + num_cols_zero + target_encode_cols + ordinal_cols + list(onehot_features_names) + [\"brand\"] + unused_cols\n",
    "    print(f\"all features: {len(all_feature_names)}\")\n",
    "    print(f\"preprocessed shape: {preprocessed_train.shape}\")\n",
    "    preprocessed_train_df = pd.DataFrame(preprocessed_train, columns=all_feature_names)\n"
   ]
  },
  {
   "cell_type": "markdown",
   "id": "754f1a1b",
   "metadata": {
    "papermill": {
     "duration": 0.009576,
     "end_time": "2024-09-27T07:22:14.510003",
     "exception": false,
     "start_time": "2024-09-27T07:22:14.500427",
     "status": "completed"
    },
    "tags": []
   },
   "source": [
    "# Benchmarking CV"
   ]
  },
  {
   "cell_type": "markdown",
   "id": "42d17283",
   "metadata": {
    "execution": {
     "iopub.execute_input": "2024-09-26T16:35:08.504685Z",
     "iopub.status.busy": "2024-09-26T16:35:08.504247Z",
     "iopub.status.idle": "2024-09-26T16:35:08.512052Z",
     "shell.execute_reply": "2024-09-26T16:35:08.510925Z",
     "shell.execute_reply.started": "2024-09-26T16:35:08.504637Z"
    },
    "papermill": {
     "duration": 0.009369,
     "end_time": "2024-09-27T07:22:14.529345",
     "exception": false,
     "start_time": "2024-09-27T07:22:14.519976",
     "status": "completed"
    },
    "tags": []
   },
   "source": [
    "n_folds = 3"
   ]
  },
  {
   "cell_type": "markdown",
   "id": "ac7a10f6",
   "metadata": {
    "execution": {
     "iopub.execute_input": "2024-09-27T06:54:57.293484Z",
     "iopub.status.busy": "2024-09-27T06:54:57.292658Z",
     "iopub.status.idle": "2024-09-27T06:54:57.327578Z",
     "shell.execute_reply": "2024-09-27T06:54:57.326453Z",
     "shell.execute_reply.started": "2024-09-27T06:54:57.293418Z"
    },
    "papermill": {
     "duration": 0.009196,
     "end_time": "2024-09-27T07:22:14.548283",
     "exception": false,
     "start_time": "2024-09-27T07:22:14.539087",
     "status": "completed"
    },
    "tags": []
   },
   "source": [
    "X = train.drop(\"price\", axis=1)\n",
    "y = train[\"price\"]"
   ]
  },
  {
   "cell_type": "code",
   "execution_count": 12,
   "id": "b296c6b0",
   "metadata": {
    "execution": {
     "iopub.execute_input": "2024-09-27T07:22:14.570041Z",
     "iopub.status.busy": "2024-09-27T07:22:14.569614Z",
     "iopub.status.idle": "2024-09-27T07:22:16.515074Z",
     "shell.execute_reply": "2024-09-27T07:22:16.513745Z"
    },
    "papermill": {
     "duration": 1.960263,
     "end_time": "2024-09-27T07:22:16.518276",
     "exception": false,
     "start_time": "2024-09-27T07:22:14.558013",
     "status": "completed"
    },
    "tags": []
   },
   "outputs": [],
   "source": [
    "from sklearn.svm import SVR, NuSVR, LinearSVR\n",
    "from sklearn.ensemble import RandomForestRegressor, ExtraTreesRegressor, AdaBoostRegressor, GradientBoostingRegressor, HistGradientBoostingRegressor, BaggingRegressor\n",
    "from sklearn.neighbors import KNeighborsRegressor\n",
    "from sklearn.neural_network import MLPRegressor\n",
    "from sklearn.linear_model import HuberRegressor, RidgeCV, BayesianRidge, Ridge, LinearRegression, LassoCV, ElasticNetCV, LassoLarsCV, LassoLarsIC, LarsCV, Lars, SGDRegressor, RANSACRegressor, ElasticNet, Lasso, OrthogonalMatchingPursuitCV, PassiveAggressiveRegressor\n",
    "from sklearn.tree import DecisionTreeRegressor, ExtraTreeRegressor\n",
    "from sklearn.gaussian_process import GaussianProcessRegressor\n",
    "from sklearn.kernel_ridge import KernelRidge\n",
    "from sklearn.dummy import DummyRegressor\n",
    "from sklearn.compose import TransformedTargetRegressor\n",
    "from sklearn.linear_model import OrthogonalMatchingPursuit\n",
    "import xgboost as xgb\n",
    "import lightgbm as lgb\n",
    "from catboost import CatBoostRegressor\n",
    "from sklearn.model_selection import cross_val_score"
   ]
  },
  {
   "cell_type": "markdown",
   "id": "2c70ae72",
   "metadata": {
    "execution": {
     "iopub.execute_input": "2024-09-26T16:35:09.455948Z",
     "iopub.status.busy": "2024-09-26T16:35:09.455515Z",
     "iopub.status.idle": "2024-09-26T16:35:09.469001Z",
     "shell.execute_reply": "2024-09-26T16:35:09.467814Z",
     "shell.execute_reply.started": "2024-09-26T16:35:09.455905Z"
    },
    "papermill": {
     "duration": 0.009035,
     "end_time": "2024-09-27T07:22:16.536974",
     "exception": false,
     "start_time": "2024-09-27T07:22:16.527939",
     "status": "completed"
    },
    "tags": []
   },
   "source": [
    "model_list = [\n",
    "    ('AdaBoostRegressor', AdaBoostRegressor()),\n",
    "    ('GradientBoostingRegressor', GradientBoostingRegressor()),\n",
    "    ('HistGradientBoostingRegressor', HistGradientBoostingRegressor()),\n",
    "    ('RidgeCV', RidgeCV()),\n",
    "    ('BayesianRidge', BayesianRidge()),\n",
    "    ('Ridge', Ridge()),\n",
    "    ('LinearRegression', LinearRegression()),\n",
    "    ('TransformedTargetRegressor', TransformedTargetRegressor()),\n",
    "    ('LassoCV', LassoCV()),\n",
    "    ('ElasticNetCV', ElasticNetCV()),\n",
    "    ('LassoLarsCV', LassoLarsCV()),\n",
    "    ('LassoLarsIC', LassoLarsIC()),\n",
    "    ('LarsCV', LarsCV()),\n",
    "    ('Lars', Lars()),\n",
    "    ('RANSACRegressor', RANSACRegressor()),\n",
    "    ('ElasticNet', ElasticNet()),\n",
    "    ('Lasso', Lasso()),\n",
    "    ('OrthogonalMatchingPursuitCV', OrthogonalMatchingPursuitCV()),\n",
    "    ('OrthogonalMatchingPursuit', OrthogonalMatchingPursuit()),\n",
    "    ('DummyRegressor', DummyRegressor()),\n",
    "    ('XGBRegressor', xgb.XGBRegressor()),\n",
    "    ('LGBMRegressor', lgb.LGBMRegressor()),\n",
    "    ('CatBoostRegressor', CatBoostRegressor(silent=True))\n",
    "]\n",
    "\n",
    "reduced_model_list = [\n",
    "    ('XGBRegressor', xgb.XGBRegressor()),\n",
    "    ('LGBMRegressor', lgb.LGBMRegressor()),\n",
    "    ('CatBoostRegressor', CatBoostRegressor(silent=True)),\n",
    "    ('GradientBoostingRegressor', GradientBoostingRegressor()),\n",
    "    ('HistGradientBoostingRegressor', HistGradientBoostingRegressor())\n",
    "]"
   ]
  },
  {
   "cell_type": "markdown",
   "id": "5ad1373d",
   "metadata": {
    "execution": {
     "iopub.execute_input": "2024-09-26T16:35:09.716231Z",
     "iopub.status.busy": "2024-09-26T16:35:09.715423Z",
     "iopub.status.idle": "2024-09-26T16:35:09.722134Z",
     "shell.execute_reply": "2024-09-26T16:35:09.721066Z",
     "shell.execute_reply.started": "2024-09-26T16:35:09.716170Z"
    },
    "papermill": {
     "duration": 0.009125,
     "end_time": "2024-09-27T07:22:16.555599",
     "exception": false,
     "start_time": "2024-09-27T07:22:16.546474",
     "status": "completed"
    },
    "tags": []
   },
   "source": [
    "results_df = pd.DataFrame(columns=[\"model\",\"rmse\",\"time_taken\"])"
   ]
  },
  {
   "cell_type": "markdown",
   "id": "1a9d42b6",
   "metadata": {
    "execution": {
     "iopub.execute_input": "2024-09-26T16:35:10.046297Z",
     "iopub.status.busy": "2024-09-26T16:35:10.045396Z"
    },
    "papermill": {
     "duration": 0.00897,
     "end_time": "2024-09-27T07:22:16.573845",
     "exception": false,
     "start_time": "2024-09-27T07:22:16.564875",
     "status": "completed"
    },
    "tags": []
   },
   "source": [
    "import time\n",
    "for name, model in reduced_model_list:\n",
    "    st = time.perf_counter()\n",
    "    print(f\"Evaluating {name}\")\n",
    "    try:\n",
    "        pipeline = Pipeline(steps=[(\"preprocessor\", preprocessor), (\"model\", model)])\n",
    "        \n",
    "        cv_mse = -cross_val_score(pipeline, X, y, scoring=\"neg_mean_squared_error\", cv=n_folds)\n",
    "        cv_rmse = np.sqrt(cv_mse).mean()\n",
    "        \n",
    "        time_taken = time.perf_counter()-st\n",
    "        \n",
    "        print(f\"{name} took {time_taken}s\")\n",
    "        print(f\"{name} 3CV_rmse: {cv_rmse}\")\n",
    "        \n",
    "        results_df.loc[len(results_df)] = [name,cv_rmse,time_taken]\n",
    "    except Exception as e: \n",
    "        print(f\"{name} Failed to execute: {e}\")\n",
    "        \n",
    "results_df.sort_values(by=\"rmse\")"
   ]
  },
  {
   "cell_type": "markdown",
   "id": "6d41ce08",
   "metadata": {
    "papermill": {
     "duration": 0.009099,
     "end_time": "2024-09-27T07:22:16.592609",
     "exception": false,
     "start_time": "2024-09-27T07:22:16.583510",
     "status": "completed"
    },
    "tags": []
   },
   "source": [
    "# Checking train rmse vs eval rmse"
   ]
  },
  {
   "cell_type": "markdown",
   "id": "7d7c93de",
   "metadata": {
    "papermill": {
     "duration": 0.009006,
     "end_time": "2024-09-27T07:22:16.610942",
     "exception": false,
     "start_time": "2024-09-27T07:22:16.601936",
     "status": "completed"
    },
    "tags": []
   },
   "source": [
    "for name, model in reduced_model_list:\n",
    "    print(f\"Evaluating {name}\")\n",
    "    try:\n",
    "        pipeline = Pipeline(steps=[(\"preprocessor\", preprocessor), (\"model\", model)])\n",
    "\n",
    "        X_train, X_eval, y_train, y_eval = train_test_split(X, y, test_size=0.05)\n",
    "\n",
    "        pipeline.fit(X_train, y_train)\n",
    "\n",
    "        y_train_preds = pipeline.predict(X_train)\n",
    "        y_eval_preds = pipeline.predict(X_eval)\n",
    "\n",
    "        rmse_train = np.sqrt(mean_squared_error(y_train, y_train_preds))\n",
    "        rmse_eval = np.sqrt(mean_squared_error(y_eval, y_eval_preds))\n",
    "\n",
    "        time_taken = time.perf_counter()-st\n",
    "\n",
    "    except Exception as e: \n",
    "        print(f\"{name} Failed to execute: {e}\")\n",
    "\n",
    "    print(f\"Train rmse: {rmse_train}\")\n",
    "    print(f\"Eval rmse: {rmse_eval}\")"
   ]
  },
  {
   "cell_type": "markdown",
   "id": "23fb58ea",
   "metadata": {
    "papermill": {
     "duration": 0.009044,
     "end_time": "2024-09-27T07:22:16.629510",
     "exception": false,
     "start_time": "2024-09-27T07:22:16.620466",
     "status": "completed"
    },
    "tags": []
   },
   "source": [
    "# Submission"
   ]
  },
  {
   "cell_type": "code",
   "execution_count": 13,
   "id": "f4ad1c06",
   "metadata": {
    "execution": {
     "iopub.execute_input": "2024-09-27T07:22:16.651728Z",
     "iopub.status.busy": "2024-09-27T07:22:16.650034Z",
     "iopub.status.idle": "2024-09-27T07:22:16.695618Z",
     "shell.execute_reply": "2024-09-27T07:22:16.694221Z"
    },
    "papermill": {
     "duration": 0.059853,
     "end_time": "2024-09-27T07:22:16.698683",
     "exception": false,
     "start_time": "2024-09-27T07:22:16.638830",
     "status": "completed"
    },
    "tags": []
   },
   "outputs": [],
   "source": [
    "X = train.drop(\"price\", axis=1)\n",
    "y = train[\"price\"]"
   ]
  },
  {
   "cell_type": "code",
   "execution_count": 14,
   "id": "d07ef890",
   "metadata": {
    "execution": {
     "iopub.execute_input": "2024-09-27T07:22:16.720040Z",
     "iopub.status.busy": "2024-09-27T07:22:16.719543Z",
     "iopub.status.idle": "2024-09-27T07:22:16.726435Z",
     "shell.execute_reply": "2024-09-27T07:22:16.724885Z"
    },
    "papermill": {
     "duration": 0.021009,
     "end_time": "2024-09-27T07:22:16.729341",
     "exception": false,
     "start_time": "2024-09-27T07:22:16.708332",
     "status": "completed"
    },
    "tags": []
   },
   "outputs": [],
   "source": [
    "model = lgb.LGBMRegressor()\n",
    "pipeline = Pipeline(steps=[(\"preprocessor\", preprocessor), (\"model\", model)])"
   ]
  },
  {
   "cell_type": "code",
   "execution_count": 15,
   "id": "64266266",
   "metadata": {
    "execution": {
     "iopub.execute_input": "2024-09-27T07:22:16.750754Z",
     "iopub.status.busy": "2024-09-27T07:22:16.749832Z",
     "iopub.status.idle": "2024-09-27T07:22:21.578550Z",
     "shell.execute_reply": "2024-09-27T07:22:21.577298Z"
    },
    "papermill": {
     "duration": 4.843284,
     "end_time": "2024-09-27T07:22:21.582125",
     "exception": false,
     "start_time": "2024-09-27T07:22:16.738841",
     "status": "completed"
    },
    "tags": []
   },
   "outputs": [
    {
     "name": "stdout",
     "output_type": "stream",
     "text": [
      "[LightGBM] [Info] Auto-choosing col-wise multi-threading, the overhead of testing was 0.066242 seconds.\n",
      "You can set `force_col_wise=true` to remove the overhead.\n",
      "[LightGBM] [Info] Total Bins 1447\n",
      "[LightGBM] [Info] Number of data points in the train set: 188533, number of used features: 117\n",
      "[LightGBM] [Info] Start training from score 43878.016178\n"
     ]
    },
    {
     "data": {
      "text/html": [
       "<style>#sk-container-id-1 {color: black;background-color: white;}#sk-container-id-1 pre{padding: 0;}#sk-container-id-1 div.sk-toggleable {background-color: white;}#sk-container-id-1 label.sk-toggleable__label {cursor: pointer;display: block;width: 100%;margin-bottom: 0;padding: 0.3em;box-sizing: border-box;text-align: center;}#sk-container-id-1 label.sk-toggleable__label-arrow:before {content: \"▸\";float: left;margin-right: 0.25em;color: #696969;}#sk-container-id-1 label.sk-toggleable__label-arrow:hover:before {color: black;}#sk-container-id-1 div.sk-estimator:hover label.sk-toggleable__label-arrow:before {color: black;}#sk-container-id-1 div.sk-toggleable__content {max-height: 0;max-width: 0;overflow: hidden;text-align: left;background-color: #f0f8ff;}#sk-container-id-1 div.sk-toggleable__content pre {margin: 0.2em;color: black;border-radius: 0.25em;background-color: #f0f8ff;}#sk-container-id-1 input.sk-toggleable__control:checked~div.sk-toggleable__content {max-height: 200px;max-width: 100%;overflow: auto;}#sk-container-id-1 input.sk-toggleable__control:checked~label.sk-toggleable__label-arrow:before {content: \"▾\";}#sk-container-id-1 div.sk-estimator input.sk-toggleable__control:checked~label.sk-toggleable__label {background-color: #d4ebff;}#sk-container-id-1 div.sk-label input.sk-toggleable__control:checked~label.sk-toggleable__label {background-color: #d4ebff;}#sk-container-id-1 input.sk-hidden--visually {border: 0;clip: rect(1px 1px 1px 1px);clip: rect(1px, 1px, 1px, 1px);height: 1px;margin: -1px;overflow: hidden;padding: 0;position: absolute;width: 1px;}#sk-container-id-1 div.sk-estimator {font-family: monospace;background-color: #f0f8ff;border: 1px dotted black;border-radius: 0.25em;box-sizing: border-box;margin-bottom: 0.5em;}#sk-container-id-1 div.sk-estimator:hover {background-color: #d4ebff;}#sk-container-id-1 div.sk-parallel-item::after {content: \"\";width: 100%;border-bottom: 1px solid gray;flex-grow: 1;}#sk-container-id-1 div.sk-label:hover label.sk-toggleable__label {background-color: #d4ebff;}#sk-container-id-1 div.sk-serial::before {content: \"\";position: absolute;border-left: 1px solid gray;box-sizing: border-box;top: 0;bottom: 0;left: 50%;z-index: 0;}#sk-container-id-1 div.sk-serial {display: flex;flex-direction: column;align-items: center;background-color: white;padding-right: 0.2em;padding-left: 0.2em;position: relative;}#sk-container-id-1 div.sk-item {position: relative;z-index: 1;}#sk-container-id-1 div.sk-parallel {display: flex;align-items: stretch;justify-content: center;background-color: white;position: relative;}#sk-container-id-1 div.sk-item::before, #sk-container-id-1 div.sk-parallel-item::before {content: \"\";position: absolute;border-left: 1px solid gray;box-sizing: border-box;top: 0;bottom: 0;left: 50%;z-index: -1;}#sk-container-id-1 div.sk-parallel-item {display: flex;flex-direction: column;z-index: 1;position: relative;background-color: white;}#sk-container-id-1 div.sk-parallel-item:first-child::after {align-self: flex-end;width: 50%;}#sk-container-id-1 div.sk-parallel-item:last-child::after {align-self: flex-start;width: 50%;}#sk-container-id-1 div.sk-parallel-item:only-child::after {width: 0;}#sk-container-id-1 div.sk-dashed-wrapped {border: 1px dashed gray;margin: 0 0.4em 0.5em 0.4em;box-sizing: border-box;padding-bottom: 0.4em;background-color: white;}#sk-container-id-1 div.sk-label label {font-family: monospace;font-weight: bold;display: inline-block;line-height: 1.2em;}#sk-container-id-1 div.sk-label-container {text-align: center;}#sk-container-id-1 div.sk-container {/* jupyter's `normalize.less` sets `[hidden] { display: none; }` but bootstrap.min.css set `[hidden] { display: none !important; }` so we also need the `!important` here to be able to override the default hidden behavior on the sphinx rendered scikit-learn.org. See: https://github.com/scikit-learn/scikit-learn/issues/21755 */display: inline-block !important;position: relative;}#sk-container-id-1 div.sk-text-repr-fallback {display: none;}</style><div id=\"sk-container-id-1\" class=\"sk-top-container\"><div class=\"sk-text-repr-fallback\"><pre>Pipeline(steps=[(&#x27;preprocessor&#x27;,\n",
       "                 ColumnTransformer(transformers=[(&#x27;num_mean&#x27;,\n",
       "                                                  Pipeline(steps=[(&#x27;imputer&#x27;,\n",
       "                                                                   SimpleImputer())]),\n",
       "                                                  [&#x27;model_year&#x27;, &#x27;milage&#x27;,\n",
       "                                                   &#x27;HP&#x27;]),\n",
       "                                                 (&#x27;num_zero&#x27;,\n",
       "                                                  Pipeline(steps=[(&#x27;imputer&#x27;,\n",
       "                                                                   SimpleImputer(fill_value=0,\n",
       "                                                                                 strategy=&#x27;constant&#x27;))]),\n",
       "                                                  [&#x27;L&#x27;, &#x27;Valves&#x27;, &#x27;Ah&#x27;, &#x27;FRKW&#x27;,\n",
       "                                                   &#x27;RRKW&#x27;, &#x27;Volts&#x27;]),\n",
       "                                                 (&#x27;target_enc&#x27;,\n",
       "                                                  Pipeline(steps=[(&#x27;target_encoder&#x27;,\n",
       "                                                                   TargetEncoder())]...\n",
       "                                                  Pipeline(steps=[(&#x27;encoder&#x27;,\n",
       "                                                                   OrdinalEncoder(categories=[[&#x27;Scion&#x27;,\n",
       "                                                                                               &#x27;Hummer&#x27;,\n",
       "                                                                                               &#x27;MINI&#x27;,\n",
       "                                                                                               &#x27;Saturn&#x27;,\n",
       "                                                                                               &#x27;Mitsubishi&#x27;,\n",
       "                                                                                               &#x27;Subaru&#x27;,\n",
       "                                                                                               &#x27;Pontiac&#x27;,\n",
       "                                                                                               &#x27;Honda&#x27;,\n",
       "                                                                                               &#x27;Mazda&#x27;,\n",
       "                                                                                               &#x27;Hyundai&#x27;,\n",
       "                                                                                               &#x27;Mercury&#x27;,\n",
       "                                                                                               &#x27;Volkswagen&#x27;,\n",
       "                                                                                               &#x27;Lotus&#x27;,\n",
       "                                                                                               &#x27;Chrysler&#x27;,\n",
       "                                                                                               &#x27;Plymouth&#x27;,\n",
       "                                                                                               &#x27;Saab&#x27;,\n",
       "                                                                                               &#x27;Acura&#x27;,\n",
       "                                                                                               &#x27;Toyota&#x27;,\n",
       "                                                                                               &#x27;Nissan&#x27;,\n",
       "                                                                                               &#x27;Buick&#x27;,\n",
       "                                                                                               &#x27;Suzuki&#x27;,\n",
       "                                                                                               &#x27;Lincoln&#x27;,\n",
       "                                                                                               &#x27;Volvo&#x27;,\n",
       "                                                                                               &#x27;FIAT&#x27;,\n",
       "                                                                                               &#x27;Dodge&#x27;,\n",
       "                                                                                               &#x27;INFINITI&#x27;,\n",
       "                                                                                               &#x27;Jeep&#x27;,\n",
       "                                                                                               &#x27;smart&#x27;,\n",
       "                                                                                               &#x27;Lexus&#x27;,\n",
       "                                                                                               &#x27;Karma&#x27;, ...]]))]),\n",
       "                                                  [&#x27;brand&#x27;])])),\n",
       "                (&#x27;model&#x27;, LGBMRegressor())])</pre><b>In a Jupyter environment, please rerun this cell to show the HTML representation or trust the notebook. <br />On GitHub, the HTML representation is unable to render, please try loading this page with nbviewer.org.</b></div><div class=\"sk-container\" hidden><div class=\"sk-item sk-dashed-wrapped\"><div class=\"sk-label-container\"><div class=\"sk-label sk-toggleable\"><input class=\"sk-toggleable__control sk-hidden--visually\" id=\"sk-estimator-id-1\" type=\"checkbox\" ><label for=\"sk-estimator-id-1\" class=\"sk-toggleable__label sk-toggleable__label-arrow\">Pipeline</label><div class=\"sk-toggleable__content\"><pre>Pipeline(steps=[(&#x27;preprocessor&#x27;,\n",
       "                 ColumnTransformer(transformers=[(&#x27;num_mean&#x27;,\n",
       "                                                  Pipeline(steps=[(&#x27;imputer&#x27;,\n",
       "                                                                   SimpleImputer())]),\n",
       "                                                  [&#x27;model_year&#x27;, &#x27;milage&#x27;,\n",
       "                                                   &#x27;HP&#x27;]),\n",
       "                                                 (&#x27;num_zero&#x27;,\n",
       "                                                  Pipeline(steps=[(&#x27;imputer&#x27;,\n",
       "                                                                   SimpleImputer(fill_value=0,\n",
       "                                                                                 strategy=&#x27;constant&#x27;))]),\n",
       "                                                  [&#x27;L&#x27;, &#x27;Valves&#x27;, &#x27;Ah&#x27;, &#x27;FRKW&#x27;,\n",
       "                                                   &#x27;RRKW&#x27;, &#x27;Volts&#x27;]),\n",
       "                                                 (&#x27;target_enc&#x27;,\n",
       "                                                  Pipeline(steps=[(&#x27;target_encoder&#x27;,\n",
       "                                                                   TargetEncoder())]...\n",
       "                                                  Pipeline(steps=[(&#x27;encoder&#x27;,\n",
       "                                                                   OrdinalEncoder(categories=[[&#x27;Scion&#x27;,\n",
       "                                                                                               &#x27;Hummer&#x27;,\n",
       "                                                                                               &#x27;MINI&#x27;,\n",
       "                                                                                               &#x27;Saturn&#x27;,\n",
       "                                                                                               &#x27;Mitsubishi&#x27;,\n",
       "                                                                                               &#x27;Subaru&#x27;,\n",
       "                                                                                               &#x27;Pontiac&#x27;,\n",
       "                                                                                               &#x27;Honda&#x27;,\n",
       "                                                                                               &#x27;Mazda&#x27;,\n",
       "                                                                                               &#x27;Hyundai&#x27;,\n",
       "                                                                                               &#x27;Mercury&#x27;,\n",
       "                                                                                               &#x27;Volkswagen&#x27;,\n",
       "                                                                                               &#x27;Lotus&#x27;,\n",
       "                                                                                               &#x27;Chrysler&#x27;,\n",
       "                                                                                               &#x27;Plymouth&#x27;,\n",
       "                                                                                               &#x27;Saab&#x27;,\n",
       "                                                                                               &#x27;Acura&#x27;,\n",
       "                                                                                               &#x27;Toyota&#x27;,\n",
       "                                                                                               &#x27;Nissan&#x27;,\n",
       "                                                                                               &#x27;Buick&#x27;,\n",
       "                                                                                               &#x27;Suzuki&#x27;,\n",
       "                                                                                               &#x27;Lincoln&#x27;,\n",
       "                                                                                               &#x27;Volvo&#x27;,\n",
       "                                                                                               &#x27;FIAT&#x27;,\n",
       "                                                                                               &#x27;Dodge&#x27;,\n",
       "                                                                                               &#x27;INFINITI&#x27;,\n",
       "                                                                                               &#x27;Jeep&#x27;,\n",
       "                                                                                               &#x27;smart&#x27;,\n",
       "                                                                                               &#x27;Lexus&#x27;,\n",
       "                                                                                               &#x27;Karma&#x27;, ...]]))]),\n",
       "                                                  [&#x27;brand&#x27;])])),\n",
       "                (&#x27;model&#x27;, LGBMRegressor())])</pre></div></div></div><div class=\"sk-serial\"><div class=\"sk-item sk-dashed-wrapped\"><div class=\"sk-label-container\"><div class=\"sk-label sk-toggleable\"><input class=\"sk-toggleable__control sk-hidden--visually\" id=\"sk-estimator-id-2\" type=\"checkbox\" ><label for=\"sk-estimator-id-2\" class=\"sk-toggleable__label sk-toggleable__label-arrow\">preprocessor: ColumnTransformer</label><div class=\"sk-toggleable__content\"><pre>ColumnTransformer(transformers=[(&#x27;num_mean&#x27;,\n",
       "                                 Pipeline(steps=[(&#x27;imputer&#x27;, SimpleImputer())]),\n",
       "                                 [&#x27;model_year&#x27;, &#x27;milage&#x27;, &#x27;HP&#x27;]),\n",
       "                                (&#x27;num_zero&#x27;,\n",
       "                                 Pipeline(steps=[(&#x27;imputer&#x27;,\n",
       "                                                  SimpleImputer(fill_value=0,\n",
       "                                                                strategy=&#x27;constant&#x27;))]),\n",
       "                                 [&#x27;L&#x27;, &#x27;Valves&#x27;, &#x27;Ah&#x27;, &#x27;FRKW&#x27;, &#x27;RRKW&#x27;,\n",
       "                                  &#x27;Volts&#x27;]),\n",
       "                                (&#x27;target_enc&#x27;,\n",
       "                                 Pipeline(steps=[(&#x27;target_encoder&#x27;,\n",
       "                                                  TargetEncoder())]),\n",
       "                                 []),\n",
       "                                (&#x27;cat_ord&#x27;,\n",
       "                                 Pipeline(steps=...\n",
       "                                (&#x27;brand&#x27;,\n",
       "                                 Pipeline(steps=[(&#x27;encoder&#x27;,\n",
       "                                                  OrdinalEncoder(categories=[[&#x27;Scion&#x27;,\n",
       "                                                                              &#x27;Hummer&#x27;,\n",
       "                                                                              &#x27;MINI&#x27;,\n",
       "                                                                              &#x27;Saturn&#x27;,\n",
       "                                                                              &#x27;Mitsubishi&#x27;,\n",
       "                                                                              &#x27;Subaru&#x27;,\n",
       "                                                                              &#x27;Pontiac&#x27;,\n",
       "                                                                              &#x27;Honda&#x27;,\n",
       "                                                                              &#x27;Mazda&#x27;,\n",
       "                                                                              &#x27;Hyundai&#x27;,\n",
       "                                                                              &#x27;Mercury&#x27;,\n",
       "                                                                              &#x27;Volkswagen&#x27;,\n",
       "                                                                              &#x27;Lotus&#x27;,\n",
       "                                                                              &#x27;Chrysler&#x27;,\n",
       "                                                                              &#x27;Plymouth&#x27;,\n",
       "                                                                              &#x27;Saab&#x27;,\n",
       "                                                                              &#x27;Acura&#x27;,\n",
       "                                                                              &#x27;Toyota&#x27;,\n",
       "                                                                              &#x27;Nissan&#x27;,\n",
       "                                                                              &#x27;Buick&#x27;,\n",
       "                                                                              &#x27;Suzuki&#x27;,\n",
       "                                                                              &#x27;Lincoln&#x27;,\n",
       "                                                                              &#x27;Volvo&#x27;,\n",
       "                                                                              &#x27;FIAT&#x27;,\n",
       "                                                                              &#x27;Dodge&#x27;,\n",
       "                                                                              &#x27;INFINITI&#x27;,\n",
       "                                                                              &#x27;Jeep&#x27;,\n",
       "                                                                              &#x27;smart&#x27;,\n",
       "                                                                              &#x27;Lexus&#x27;,\n",
       "                                                                              &#x27;Karma&#x27;, ...]]))]),\n",
       "                                 [&#x27;brand&#x27;])])</pre></div></div></div><div class=\"sk-parallel\"><div class=\"sk-parallel-item\"><div class=\"sk-item\"><div class=\"sk-label-container\"><div class=\"sk-label sk-toggleable\"><input class=\"sk-toggleable__control sk-hidden--visually\" id=\"sk-estimator-id-3\" type=\"checkbox\" ><label for=\"sk-estimator-id-3\" class=\"sk-toggleable__label sk-toggleable__label-arrow\">num_mean</label><div class=\"sk-toggleable__content\"><pre>[&#x27;model_year&#x27;, &#x27;milage&#x27;, &#x27;HP&#x27;]</pre></div></div></div><div class=\"sk-serial\"><div class=\"sk-item\"><div class=\"sk-serial\"><div class=\"sk-item\"><div class=\"sk-estimator sk-toggleable\"><input class=\"sk-toggleable__control sk-hidden--visually\" id=\"sk-estimator-id-4\" type=\"checkbox\" ><label for=\"sk-estimator-id-4\" class=\"sk-toggleable__label sk-toggleable__label-arrow\">SimpleImputer</label><div class=\"sk-toggleable__content\"><pre>SimpleImputer()</pre></div></div></div></div></div></div></div></div><div class=\"sk-parallel-item\"><div class=\"sk-item\"><div class=\"sk-label-container\"><div class=\"sk-label sk-toggleable\"><input class=\"sk-toggleable__control sk-hidden--visually\" id=\"sk-estimator-id-5\" type=\"checkbox\" ><label for=\"sk-estimator-id-5\" class=\"sk-toggleable__label sk-toggleable__label-arrow\">num_zero</label><div class=\"sk-toggleable__content\"><pre>[&#x27;L&#x27;, &#x27;Valves&#x27;, &#x27;Ah&#x27;, &#x27;FRKW&#x27;, &#x27;RRKW&#x27;, &#x27;Volts&#x27;]</pre></div></div></div><div class=\"sk-serial\"><div class=\"sk-item\"><div class=\"sk-serial\"><div class=\"sk-item\"><div class=\"sk-estimator sk-toggleable\"><input class=\"sk-toggleable__control sk-hidden--visually\" id=\"sk-estimator-id-6\" type=\"checkbox\" ><label for=\"sk-estimator-id-6\" class=\"sk-toggleable__label sk-toggleable__label-arrow\">SimpleImputer</label><div class=\"sk-toggleable__content\"><pre>SimpleImputer(fill_value=0, strategy=&#x27;constant&#x27;)</pre></div></div></div></div></div></div></div></div><div class=\"sk-parallel-item\"><div class=\"sk-item\"><div class=\"sk-label-container\"><div class=\"sk-label sk-toggleable\"><input class=\"sk-toggleable__control sk-hidden--visually\" id=\"sk-estimator-id-7\" type=\"checkbox\" ><label for=\"sk-estimator-id-7\" class=\"sk-toggleable__label sk-toggleable__label-arrow\">target_enc</label><div class=\"sk-toggleable__content\"><pre>[]</pre></div></div></div><div class=\"sk-serial\"><div class=\"sk-item\"><div class=\"sk-serial\"><div class=\"sk-item\"><div class=\"sk-estimator sk-toggleable\"><input class=\"sk-toggleable__control sk-hidden--visually\" id=\"sk-estimator-id-8\" type=\"checkbox\" ><label for=\"sk-estimator-id-8\" class=\"sk-toggleable__label sk-toggleable__label-arrow\">TargetEncoder</label><div class=\"sk-toggleable__content\"><pre>TargetEncoder()</pre></div></div></div></div></div></div></div></div><div class=\"sk-parallel-item\"><div class=\"sk-item\"><div class=\"sk-label-container\"><div class=\"sk-label sk-toggleable\"><input class=\"sk-toggleable__control sk-hidden--visually\" id=\"sk-estimator-id-9\" type=\"checkbox\" ><label for=\"sk-estimator-id-9\" class=\"sk-toggleable__label sk-toggleable__label-arrow\">cat_ord</label><div class=\"sk-toggleable__content\"><pre>[&#x27;model&#x27;, &#x27;ext_col&#x27;, &#x27;int_col&#x27;]</pre></div></div></div><div class=\"sk-serial\"><div class=\"sk-item\"><div class=\"sk-serial\"><div class=\"sk-item\"><div class=\"sk-estimator sk-toggleable\"><input class=\"sk-toggleable__control sk-hidden--visually\" id=\"sk-estimator-id-10\" type=\"checkbox\" ><label for=\"sk-estimator-id-10\" class=\"sk-toggleable__label sk-toggleable__label-arrow\">SimpleImputer</label><div class=\"sk-toggleable__content\"><pre>SimpleImputer(strategy=&#x27;most_frequent&#x27;)</pre></div></div></div><div class=\"sk-item\"><div class=\"sk-estimator sk-toggleable\"><input class=\"sk-toggleable__control sk-hidden--visually\" id=\"sk-estimator-id-11\" type=\"checkbox\" ><label for=\"sk-estimator-id-11\" class=\"sk-toggleable__label sk-toggleable__label-arrow\">OrdinalEncoder</label><div class=\"sk-toggleable__content\"><pre>OrdinalEncoder(handle_unknown=&#x27;use_encoded_value&#x27;, unknown_value=-1)</pre></div></div></div></div></div></div></div></div><div class=\"sk-parallel-item\"><div class=\"sk-item\"><div class=\"sk-label-container\"><div class=\"sk-label sk-toggleable\"><input class=\"sk-toggleable__control sk-hidden--visually\" id=\"sk-estimator-id-12\" type=\"checkbox\" ><label for=\"sk-estimator-id-12\" class=\"sk-toggleable__label sk-toggleable__label-arrow\">cat_onehot</label><div class=\"sk-toggleable__content\"><pre>[&#x27;fuel_type&#x27;, &#x27;transmission&#x27;, &#x27;Cylinders&#x27;, &#x27;Fuel_injection&#x27;, &#x27;Valve_train_design&#x27;, &#x27;Forced_induction&#x27;, &#x27;Engine_type&#x27;]</pre></div></div></div><div class=\"sk-serial\"><div class=\"sk-item\"><div class=\"sk-serial\"><div class=\"sk-item\"><div class=\"sk-estimator sk-toggleable\"><input class=\"sk-toggleable__control sk-hidden--visually\" id=\"sk-estimator-id-13\" type=\"checkbox\" ><label for=\"sk-estimator-id-13\" class=\"sk-toggleable__label sk-toggleable__label-arrow\">SimpleImputer</label><div class=\"sk-toggleable__content\"><pre>SimpleImputer(strategy=&#x27;most_frequent&#x27;)</pre></div></div></div><div class=\"sk-item\"><div class=\"sk-estimator sk-toggleable\"><input class=\"sk-toggleable__control sk-hidden--visually\" id=\"sk-estimator-id-14\" type=\"checkbox\" ><label for=\"sk-estimator-id-14\" class=\"sk-toggleable__label sk-toggleable__label-arrow\">OneHotEncoder</label><div class=\"sk-toggleable__content\"><pre>OneHotEncoder(handle_unknown=&#x27;ignore&#x27;, sparse_output=False)</pre></div></div></div></div></div></div></div></div><div class=\"sk-parallel-item\"><div class=\"sk-item\"><div class=\"sk-label-container\"><div class=\"sk-label sk-toggleable\"><input class=\"sk-toggleable__control sk-hidden--visually\" id=\"sk-estimator-id-15\" type=\"checkbox\" ><label for=\"sk-estimator-id-15\" class=\"sk-toggleable__label sk-toggleable__label-arrow\">brand</label><div class=\"sk-toggleable__content\"><pre>[&#x27;brand&#x27;]</pre></div></div></div><div class=\"sk-serial\"><div class=\"sk-item\"><div class=\"sk-serial\"><div class=\"sk-item\"><div class=\"sk-estimator sk-toggleable\"><input class=\"sk-toggleable__control sk-hidden--visually\" id=\"sk-estimator-id-16\" type=\"checkbox\" ><label for=\"sk-estimator-id-16\" class=\"sk-toggleable__label sk-toggleable__label-arrow\">OrdinalEncoder</label><div class=\"sk-toggleable__content\"><pre>OrdinalEncoder(categories=[[&#x27;Scion&#x27;, &#x27;Hummer&#x27;, &#x27;MINI&#x27;, &#x27;Saturn&#x27;, &#x27;Mitsubishi&#x27;,\n",
       "                            &#x27;Subaru&#x27;, &#x27;Pontiac&#x27;, &#x27;Honda&#x27;, &#x27;Mazda&#x27;, &#x27;Hyundai&#x27;,\n",
       "                            &#x27;Mercury&#x27;, &#x27;Volkswagen&#x27;, &#x27;Lotus&#x27;, &#x27;Chrysler&#x27;,\n",
       "                            &#x27;Plymouth&#x27;, &#x27;Saab&#x27;, &#x27;Acura&#x27;, &#x27;Toyota&#x27;, &#x27;Nissan&#x27;,\n",
       "                            &#x27;Buick&#x27;, &#x27;Suzuki&#x27;, &#x27;Lincoln&#x27;, &#x27;Volvo&#x27;, &#x27;FIAT&#x27;,\n",
       "                            &#x27;Dodge&#x27;, &#x27;INFINITI&#x27;, &#x27;Jeep&#x27;, &#x27;smart&#x27;, &#x27;Lexus&#x27;,\n",
       "                            &#x27;Karma&#x27;, ...]])</pre></div></div></div></div></div></div></div></div></div></div><div class=\"sk-item\"><div class=\"sk-estimator sk-toggleable\"><input class=\"sk-toggleable__control sk-hidden--visually\" id=\"sk-estimator-id-17\" type=\"checkbox\" ><label for=\"sk-estimator-id-17\" class=\"sk-toggleable__label sk-toggleable__label-arrow\">LGBMRegressor</label><div class=\"sk-toggleable__content\"><pre>LGBMRegressor()</pre></div></div></div></div></div></div></div>"
      ],
      "text/plain": [
       "Pipeline(steps=[('preprocessor',\n",
       "                 ColumnTransformer(transformers=[('num_mean',\n",
       "                                                  Pipeline(steps=[('imputer',\n",
       "                                                                   SimpleImputer())]),\n",
       "                                                  ['model_year', 'milage',\n",
       "                                                   'HP']),\n",
       "                                                 ('num_zero',\n",
       "                                                  Pipeline(steps=[('imputer',\n",
       "                                                                   SimpleImputer(fill_value=0,\n",
       "                                                                                 strategy='constant'))]),\n",
       "                                                  ['L', 'Valves', 'Ah', 'FRKW',\n",
       "                                                   'RRKW', 'Volts']),\n",
       "                                                 ('target_enc',\n",
       "                                                  Pipeline(steps=[('target_encoder',\n",
       "                                                                   TargetEncoder())]...\n",
       "                                                  Pipeline(steps=[('encoder',\n",
       "                                                                   OrdinalEncoder(categories=[['Scion',\n",
       "                                                                                               'Hummer',\n",
       "                                                                                               'MINI',\n",
       "                                                                                               'Saturn',\n",
       "                                                                                               'Mitsubishi',\n",
       "                                                                                               'Subaru',\n",
       "                                                                                               'Pontiac',\n",
       "                                                                                               'Honda',\n",
       "                                                                                               'Mazda',\n",
       "                                                                                               'Hyundai',\n",
       "                                                                                               'Mercury',\n",
       "                                                                                               'Volkswagen',\n",
       "                                                                                               'Lotus',\n",
       "                                                                                               'Chrysler',\n",
       "                                                                                               'Plymouth',\n",
       "                                                                                               'Saab',\n",
       "                                                                                               'Acura',\n",
       "                                                                                               'Toyota',\n",
       "                                                                                               'Nissan',\n",
       "                                                                                               'Buick',\n",
       "                                                                                               'Suzuki',\n",
       "                                                                                               'Lincoln',\n",
       "                                                                                               'Volvo',\n",
       "                                                                                               'FIAT',\n",
       "                                                                                               'Dodge',\n",
       "                                                                                               'INFINITI',\n",
       "                                                                                               'Jeep',\n",
       "                                                                                               'smart',\n",
       "                                                                                               'Lexus',\n",
       "                                                                                               'Karma', ...]]))]),\n",
       "                                                  ['brand'])])),\n",
       "                ('model', LGBMRegressor())])"
      ]
     },
     "execution_count": 15,
     "metadata": {},
     "output_type": "execute_result"
    }
   ],
   "source": [
    "pipeline.fit(X,y)"
   ]
  },
  {
   "cell_type": "code",
   "execution_count": 16,
   "id": "12a01e86",
   "metadata": {
    "execution": {
     "iopub.execute_input": "2024-09-27T07:22:21.606607Z",
     "iopub.status.busy": "2024-09-27T07:22:21.606104Z",
     "iopub.status.idle": "2024-09-27T07:22:23.248090Z",
     "shell.execute_reply": "2024-09-27T07:22:23.246835Z"
    },
    "papermill": {
     "duration": 1.658227,
     "end_time": "2024-09-27T07:22:23.251268",
     "exception": false,
     "start_time": "2024-09-27T07:22:21.593041",
     "status": "completed"
    },
    "tags": []
   },
   "outputs": [
    {
     "data": {
      "text/plain": [
       "array([18541.44969631, 77094.1692001 , 70835.09288285, ...,\n",
       "       23626.275975  , 16560.13415213, 38013.05879199])"
      ]
     },
     "execution_count": 16,
     "metadata": {},
     "output_type": "execute_result"
    }
   ],
   "source": [
    "preds = pipeline.predict(test)\n",
    "preds"
   ]
  },
  {
   "cell_type": "code",
   "execution_count": 17,
   "id": "be1afa9f",
   "metadata": {
    "execution": {
     "iopub.execute_input": "2024-09-27T07:22:23.276886Z",
     "iopub.status.busy": "2024-09-27T07:22:23.276435Z",
     "iopub.status.idle": "2024-09-27T07:22:23.742321Z",
     "shell.execute_reply": "2024-09-27T07:22:23.740737Z"
    },
    "papermill": {
     "duration": 0.482163,
     "end_time": "2024-09-27T07:22:23.745764",
     "exception": false,
     "start_time": "2024-09-27T07:22:23.263601",
     "status": "completed"
    },
    "tags": []
   },
   "outputs": [],
   "source": [
    "submission_file = test.reset_index()[['id']]\n",
    "submission_file['price'] = preds\n",
    "submission_file = submission_file.set_index(\"id\")\n",
    "submission_file.to_csv(\"/kaggle/working/submission.csv\")"
   ]
  },
  {
   "cell_type": "code",
   "execution_count": null,
   "id": "09c183ad",
   "metadata": {
    "papermill": {
     "duration": 0.01063,
     "end_time": "2024-09-27T07:22:23.767574",
     "exception": false,
     "start_time": "2024-09-27T07:22:23.756944",
     "status": "completed"
    },
    "tags": []
   },
   "outputs": [],
   "source": []
  }
 ],
 "metadata": {
  "kaggle": {
   "accelerator": "none",
   "dataSources": [
    {
     "databundleVersionId": 9057646,
     "sourceId": 76728,
     "sourceType": "competition"
    }
   ],
   "dockerImageVersionId": 30761,
   "isGpuEnabled": false,
   "isInternetEnabled": true,
   "language": "python",
   "sourceType": "notebook"
  },
  "kernelspec": {
   "display_name": "Python 3",
   "language": "python",
   "name": "python3"
  },
  "language_info": {
   "codemirror_mode": {
    "name": "ipython",
    "version": 3
   },
   "file_extension": ".py",
   "mimetype": "text/x-python",
   "name": "python",
   "nbconvert_exporter": "python",
   "pygments_lexer": "ipython3",
   "version": "3.10.14"
  },
  "papermill": {
   "default_parameters": {},
   "duration": 23.424682,
   "end_time": "2024-09-27T07:22:24.703704",
   "environment_variables": {},
   "exception": null,
   "input_path": "__notebook__.ipynb",
   "output_path": "__notebook__.ipynb",
   "parameters": {},
   "start_time": "2024-09-27T07:22:01.279022",
   "version": "2.6.0"
  }
 },
 "nbformat": 4,
 "nbformat_minor": 5
}
