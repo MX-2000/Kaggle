{
 "cells": [
  {
   "cell_type": "code",
   "execution_count": 1,
   "id": "f83f7766",
   "metadata": {
    "_cell_guid": "b1076dfc-b9ad-4769-8c92-a6c4dae69d19",
    "_uuid": "8f2839f25d086af736a60e9eeb907d3b93b6e0e5",
    "execution": {
     "iopub.execute_input": "2024-09-28T06:29:53.190481Z",
     "iopub.status.busy": "2024-09-28T06:29:53.189415Z",
     "iopub.status.idle": "2024-09-28T06:29:56.653481Z",
     "shell.execute_reply": "2024-09-28T06:29:56.651965Z"
    },
    "papermill": {
     "duration": 3.478094,
     "end_time": "2024-09-28T06:29:56.657582",
     "exception": false,
     "start_time": "2024-09-28T06:29:53.179488",
     "status": "completed"
    },
    "tags": []
   },
   "outputs": [],
   "source": [
    "from sklearn.model_selection import train_test_split, cross_val_score\n",
    "from sklearn.impute import SimpleImputer\n",
    "from sklearn.preprocessing import OrdinalEncoder, OneHotEncoder\n",
    "from sklearn.pipeline import Pipeline\n",
    "from sklearn.compose import ColumnTransformer\n",
    "from sklearn.metrics import mean_squared_error\n",
    "import pandas as pd\n",
    "import numpy as np\n",
    "import category_encoders as ce"
   ]
  },
  {
   "cell_type": "code",
   "execution_count": 2,
   "id": "cbdf9d2e",
   "metadata": {
    "execution": {
     "iopub.execute_input": "2024-09-28T06:29:56.678693Z",
     "iopub.status.busy": "2024-09-28T06:29:56.677667Z",
     "iopub.status.idle": "2024-09-28T06:29:58.276721Z",
     "shell.execute_reply": "2024-09-28T06:29:58.275069Z"
    },
    "papermill": {
     "duration": 1.613439,
     "end_time": "2024-09-28T06:29:58.280105",
     "exception": false,
     "start_time": "2024-09-28T06:29:56.666666",
     "status": "completed"
    },
    "tags": []
   },
   "outputs": [],
   "source": [
    "og_train = pd.read_csv(\"/kaggle/input/playground-series-s4e9/train.csv\", index_col=\"id\")\n",
    "og_test = pd.read_csv(\"/kaggle/input/playground-series-s4e9/test.csv\", index_col=\"id\")"
   ]
  },
  {
   "cell_type": "code",
   "execution_count": 3,
   "id": "4edb4666",
   "metadata": {
    "execution": {
     "iopub.execute_input": "2024-09-28T06:29:58.297096Z",
     "iopub.status.busy": "2024-09-28T06:29:58.296571Z",
     "iopub.status.idle": "2024-09-28T06:29:58.303614Z",
     "shell.execute_reply": "2024-09-28T06:29:58.301930Z"
    },
    "papermill": {
     "duration": 0.018991,
     "end_time": "2024-09-28T06:29:58.306568",
     "exception": false,
     "start_time": "2024-09-28T06:29:58.287577",
     "status": "completed"
    },
    "tags": []
   },
   "outputs": [],
   "source": [
    "engine_re = r'(?:(\\d+\\.?\\d*)HP)? ?(?:(\\d+\\.?\\d*)(?:L| Liter))? ?((?:Straight)? ?(?:V\\d+ ?(?:Cylinder)?|\\d+ Cylinder|I\\d+|H\\d+|Flat ?\\d+|W\\d+))? ?(?:(\\d+)V)? ?(DDI|GDI|PFI|MPFI|SIDI|PDI)? ?(OHV|DOHC|SOHC)? ?(Turbo|Twin Turbo|Supercharged|TFSI|T\\/C|TSI)? ?(?:Engine)? ?(?:(\\d+\\.?\\d*) ?A[hH])?[ \\/]*(?:FR ?(\\d+\\.?\\d*)kW)?[ \\/]*(?:RR ?(\\d+\\.?\\d*)kW)?[ \\/]?(?:\\((\\d+)V?\\))?(.*)'"
   ]
  },
  {
   "cell_type": "code",
   "execution_count": 4,
   "id": "862128f7",
   "metadata": {
    "execution": {
     "iopub.execute_input": "2024-09-28T06:29:58.322945Z",
     "iopub.status.busy": "2024-09-28T06:29:58.322437Z",
     "iopub.status.idle": "2024-09-28T06:29:58.331309Z",
     "shell.execute_reply": "2024-09-28T06:29:58.330101Z"
    },
    "papermill": {
     "duration": 0.020658,
     "end_time": "2024-09-28T06:29:58.334276",
     "exception": false,
     "start_time": "2024-09-28T06:29:58.313618",
     "status": "completed"
    },
    "tags": []
   },
   "outputs": [],
   "source": [
    "def extract_engine_features(df): \n",
    "    extracted_features = [\"HP\",\"L\",\"Cylinders\",\"Valves\",\"Fuel_injection\",\"Valve_train_design\",\"Forced_induction\",\"Ah\",\"FRKW\",\"RRKW\",\"Volts\",\"Engine_type\"]\n",
    "    df = df.copy()\n",
    "    df_extracted = df[\"engine\"].str.extract(engine_re)\n",
    "    df_extracted.columns = extracted_features\n",
    "    \n",
    "    #Clean value types\n",
    "    float_feat = [\"HP\",\"L\",\"Valves\",\"Ah\",\"FRKW\",\"RRKW\",\"Volts\"]\n",
    "    for feat in float_feat: \n",
    "        df_extracted[feat] = df_extracted[feat].astype(float)\n",
    "    \n",
    "    df = df.join(df_extracted)\n",
    "    \n",
    "    df = df.drop(\"engine\", axis=1)\n",
    "    \n",
    "    return df"
   ]
  },
  {
   "cell_type": "code",
   "execution_count": 5,
   "id": "10b25624",
   "metadata": {
    "execution": {
     "iopub.execute_input": "2024-09-28T06:29:58.350868Z",
     "iopub.status.busy": "2024-09-28T06:29:58.350370Z",
     "iopub.status.idle": "2024-09-28T06:29:58.358035Z",
     "shell.execute_reply": "2024-09-28T06:29:58.356692Z"
    },
    "papermill": {
     "duration": 0.019318,
     "end_time": "2024-09-28T06:29:58.360888",
     "exception": false,
     "start_time": "2024-09-28T06:29:58.341570",
     "status": "completed"
    },
    "tags": []
   },
   "outputs": [],
   "source": [
    "def fe_accident(df): \n",
    "    accident_map = {\n",
    "        \"None reported\": 0,\n",
    "        \"At least 1 accident or damage reported\": 1\n",
    "    }\n",
    "    df = df.copy()\n",
    "    \n",
    "    # more than 50% of vehicules with a milage > 175k have accidents\n",
    "    df.loc[(df.accident.isna()) & (df.milage > 175_000), \"accident\"] = \"At least 1 accident or damage reported\"\n",
    "    df[\"accident\"] = df[\"accident\"].fillna(\"None reported\")\n",
    "    df[\"accident\"] = df[\"accident\"].map(accident_map)\n",
    "    \n",
    "    return df"
   ]
  },
  {
   "cell_type": "code",
   "execution_count": 6,
   "id": "ab7799aa",
   "metadata": {
    "execution": {
     "iopub.execute_input": "2024-09-28T06:29:58.377755Z",
     "iopub.status.busy": "2024-09-28T06:29:58.377272Z",
     "iopub.status.idle": "2024-09-28T06:29:58.384243Z",
     "shell.execute_reply": "2024-09-28T06:29:58.382969Z"
    },
    "papermill": {
     "duration": 0.019101,
     "end_time": "2024-09-28T06:29:58.387073",
     "exception": false,
     "start_time": "2024-09-28T06:29:58.367972",
     "status": "completed"
    },
    "tags": []
   },
   "outputs": [],
   "source": [
    "def fe_clean_title(df):\n",
    "    df = df.copy()\n",
    "    df[\"clean_title\"] = df[\"clean_title\"].fillna(\"No\")\n",
    "    df[\"clean_title\"] = df[\"clean_title\"].map({\"No\": 0, \"Yes\": 1})\n",
    "    \n",
    "    return df"
   ]
  },
  {
   "cell_type": "code",
   "execution_count": 7,
   "id": "dd4589cb",
   "metadata": {
    "execution": {
     "iopub.execute_input": "2024-09-28T06:29:58.403323Z",
     "iopub.status.busy": "2024-09-28T06:29:58.402835Z",
     "iopub.status.idle": "2024-09-28T06:29:58.410849Z",
     "shell.execute_reply": "2024-09-28T06:29:58.409504Z"
    },
    "papermill": {
     "duration": 0.019476,
     "end_time": "2024-09-28T06:29:58.413517",
     "exception": false,
     "start_time": "2024-09-28T06:29:58.394041",
     "status": "completed"
    },
    "tags": []
   },
   "outputs": [],
   "source": [
    "def feature_engineering(train, test): \n",
    "    fe_train = train.copy()\n",
    "    fe_test = test.copy()\n",
    "    \n",
    "    fe_train = extract_engine_features(fe_train)\n",
    "    fe_test = extract_engine_features(fe_test)\n",
    "\n",
    "\n",
    "    fe_train = fe_accident(fe_train)\n",
    "    fe_test = fe_accident(fe_test)\n",
    "    \n",
    "    fe_train = fe_clean_title(fe_train)\n",
    "    fe_test = fe_clean_title(fe_test)\n",
    "    \n",
    "    \n",
    "    \n",
    "    return fe_train, fe_test\n",
    "    "
   ]
  },
  {
   "cell_type": "code",
   "execution_count": 8,
   "id": "30d498d4",
   "metadata": {
    "execution": {
     "iopub.execute_input": "2024-09-28T06:29:58.430198Z",
     "iopub.status.busy": "2024-09-28T06:29:58.429710Z",
     "iopub.status.idle": "2024-09-28T06:30:02.977574Z",
     "shell.execute_reply": "2024-09-28T06:30:02.976126Z"
    },
    "papermill": {
     "duration": 4.560126,
     "end_time": "2024-09-28T06:30:02.980938",
     "exception": false,
     "start_time": "2024-09-28T06:29:58.420812",
     "status": "completed"
    },
    "tags": []
   },
   "outputs": [],
   "source": [
    "train, test = feature_engineering(og_train, og_test)"
   ]
  },
  {
   "cell_type": "code",
   "execution_count": 9,
   "id": "72cd5181",
   "metadata": {
    "execution": {
     "iopub.execute_input": "2024-09-28T06:30:02.997617Z",
     "iopub.status.busy": "2024-09-28T06:30:02.997090Z",
     "iopub.status.idle": "2024-09-28T06:30:03.004931Z",
     "shell.execute_reply": "2024-09-28T06:30:03.003256Z"
    },
    "papermill": {
     "duration": 0.019787,
     "end_time": "2024-09-28T06:30:03.008000",
     "exception": false,
     "start_time": "2024-09-28T06:30:02.988213",
     "status": "completed"
    },
    "tags": []
   },
   "outputs": [],
   "source": [
    "unused_cols = [\"price\"]\n",
    "ordinal_cols = [\"model\",\"ext_col\",\"int_col\"]\n",
    "num_cols_mean = [\"model_year\",\"milage\", \"HP\"]\n",
    "num_cols_zero = [\"L\",\"Valves\",\"Ah\",\"FRKW\",\"RRKW\",\"Volts\"]\n",
    "target_encode_cols = []\n",
    "one_hot_cols = [\"fuel_type\",\"transmission\",\"Cylinders\",\"Fuel_injection\",\"Valve_train_design\",\"Forced_induction\",\"Engine_type\"]"
   ]
  },
  {
   "cell_type": "code",
   "execution_count": 10,
   "id": "40640de5",
   "metadata": {
    "execution": {
     "iopub.execute_input": "2024-09-28T06:30:03.025885Z",
     "iopub.status.busy": "2024-09-28T06:30:03.025379Z",
     "iopub.status.idle": "2024-09-28T06:30:03.068016Z",
     "shell.execute_reply": "2024-09-28T06:30:03.066750Z"
    },
    "papermill": {
     "duration": 0.055829,
     "end_time": "2024-09-28T06:30:03.071349",
     "exception": false,
     "start_time": "2024-09-28T06:30:03.015520",
     "status": "completed"
    },
    "tags": []
   },
   "outputs": [],
   "source": [
    "num_mean_pipeline = Pipeline(steps=[\n",
    "    (\"imputer\", SimpleImputer(strategy=\"mean\"))\n",
    "])\n",
    "num_zero_pipeline = Pipeline(steps=[\n",
    "    (\"imputer\", SimpleImputer(strategy=\"constant\", fill_value=0))\n",
    "])\n",
    "# So we keep an order in the brand encoding\n",
    "mean_brand_prices = train.groupby(\"brand\")[\"price\"].mean()\n",
    "brand_sorted = mean_brand_prices.sort_values(ascending=True)\n",
    "brand_sorted = brand_sorted.reset_index()\n",
    "sorted_brands = brand_sorted[\"brand\"].tolist()\n",
    "\n",
    "brand_pipeline = Pipeline(steps=[\n",
    "    (\"encoder\", OrdinalEncoder(categories=[sorted_brands]))\n",
    "])\n",
    "\n",
    "cat_ord_pipeline = Pipeline(steps=[\n",
    "    (\"imputer\", SimpleImputer(strategy=\"most_frequent\")),\n",
    "    (\"encoder_ord\", OrdinalEncoder(handle_unknown='use_encoded_value', unknown_value=-1))\n",
    "])\n",
    "cat_one_hot_pipeline = Pipeline(steps=[\n",
    "    (\"imputer\", SimpleImputer(strategy=\"most_frequent\")),\n",
    "    (\"encoder_onehot\", OneHotEncoder(handle_unknown=\"ignore\", sparse_output=False))\n",
    "])\n",
    "target_encode_pipeline = Pipeline(steps=[\n",
    "    (\"target_encoder\", ce.TargetEncoder())\n",
    "])\n",
    "\n",
    "passthrough = False \n",
    "if passthrough: \n",
    "    preprocessor = ColumnTransformer(transformers=[\n",
    "        (\"num_mean\", num_mean_pipeline, num_cols_mean),\n",
    "        (\"num_zero\", num_zero_pipeline, num_cols_zero),\n",
    "        (\"target_enc\", target_encode_pipeline, target_encode_cols),\n",
    "        (\"cat_ord\", cat_ord_pipeline, ordinal_cols),\n",
    "        (\"cat_onehot\", cat_one_hot_pipeline, one_hot_cols),\n",
    "        (\"brand\",brand_pipeline, [\"brand\"]),\n",
    "        (\"passthrough\", \"passthrough\", unused_cols)\n",
    "    ])\n",
    "else: \n",
    "    preprocessor = ColumnTransformer(transformers=[\n",
    "        (\"num_mean\", num_mean_pipeline, num_cols_mean),\n",
    "        (\"num_zero\", num_zero_pipeline, num_cols_zero),\n",
    "        (\"target_enc\", target_encode_pipeline, target_encode_cols),\n",
    "        (\"cat_ord\", cat_ord_pipeline, ordinal_cols),\n",
    "        (\"cat_onehot\", cat_one_hot_pipeline, one_hot_cols),\n",
    "        (\"brand\",brand_pipeline, [\"brand\"])\n",
    "    ])"
   ]
  },
  {
   "cell_type": "code",
   "execution_count": 11,
   "id": "9149e6be",
   "metadata": {
    "execution": {
     "iopub.execute_input": "2024-09-28T06:30:03.088076Z",
     "iopub.status.busy": "2024-09-28T06:30:03.087065Z",
     "iopub.status.idle": "2024-09-28T06:30:04.955132Z",
     "shell.execute_reply": "2024-09-28T06:30:04.953830Z"
    },
    "papermill": {
     "duration": 1.87981,
     "end_time": "2024-09-28T06:30:04.958267",
     "exception": false,
     "start_time": "2024-09-28T06:30:03.078457",
     "status": "completed"
    },
    "tags": []
   },
   "outputs": [],
   "source": [
    "from sklearn.svm import SVR, NuSVR, LinearSVR\n",
    "from sklearn.ensemble import RandomForestRegressor, ExtraTreesRegressor, AdaBoostRegressor, GradientBoostingRegressor, HistGradientBoostingRegressor, BaggingRegressor\n",
    "from sklearn.neighbors import KNeighborsRegressor\n",
    "from sklearn.neural_network import MLPRegressor\n",
    "from sklearn.linear_model import HuberRegressor, RidgeCV, BayesianRidge, Ridge, LinearRegression, LassoCV, ElasticNetCV, LassoLarsCV, LassoLarsIC, LarsCV, Lars, SGDRegressor, RANSACRegressor, ElasticNet, Lasso, OrthogonalMatchingPursuitCV, PassiveAggressiveRegressor\n",
    "from sklearn.tree import DecisionTreeRegressor, ExtraTreeRegressor\n",
    "from sklearn.gaussian_process import GaussianProcessRegressor\n",
    "from sklearn.kernel_ridge import KernelRidge\n",
    "from sklearn.dummy import DummyRegressor\n",
    "from sklearn.compose import TransformedTargetRegressor\n",
    "from sklearn.linear_model import OrthogonalMatchingPursuit\n",
    "import xgboost as xgb\n",
    "import lightgbm as lgb\n",
    "from catboost import CatBoostRegressor\n",
    "from sklearn.model_selection import cross_val_score"
   ]
  },
  {
   "cell_type": "code",
   "execution_count": 12,
   "id": "c2aa1cdf",
   "metadata": {
    "execution": {
     "iopub.execute_input": "2024-09-28T06:30:04.974653Z",
     "iopub.status.busy": "2024-09-28T06:30:04.973964Z",
     "iopub.status.idle": "2024-09-28T06:30:05.010508Z",
     "shell.execute_reply": "2024-09-28T06:30:05.008926Z"
    },
    "papermill": {
     "duration": 0.048585,
     "end_time": "2024-09-28T06:30:05.013919",
     "exception": false,
     "start_time": "2024-09-28T06:30:04.965334",
     "status": "completed"
    },
    "tags": []
   },
   "outputs": [],
   "source": [
    "X = train.drop(\"price\", axis=1)\n",
    "y = train[\"price\"]"
   ]
  },
  {
   "cell_type": "code",
   "execution_count": 13,
   "id": "f9d002c3",
   "metadata": {
    "execution": {
     "iopub.execute_input": "2024-09-28T06:30:05.030184Z",
     "iopub.status.busy": "2024-09-28T06:30:05.029721Z",
     "iopub.status.idle": "2024-09-28T06:30:05.035980Z",
     "shell.execute_reply": "2024-09-28T06:30:05.034602Z"
    },
    "papermill": {
     "duration": 0.017817,
     "end_time": "2024-09-28T06:30:05.038883",
     "exception": false,
     "start_time": "2024-09-28T06:30:05.021066",
     "status": "completed"
    },
    "tags": []
   },
   "outputs": [],
   "source": [
    "model = HistGradientBoostingRegressor(\n",
    "    learning_rate=0.038,\n",
    "    max_iter=1389,\n",
    "    max_leaf_nodes=765,\n",
    "    max_depth=430,\n",
    "    min_samples_leaf=100,\n",
    "    l2_regularization=0.33,\n",
    ")"
   ]
  },
  {
   "cell_type": "code",
   "execution_count": 14,
   "id": "e0803763",
   "metadata": {
    "execution": {
     "iopub.execute_input": "2024-09-28T06:30:05.056002Z",
     "iopub.status.busy": "2024-09-28T06:30:05.054563Z",
     "iopub.status.idle": "2024-09-28T06:30:05.061312Z",
     "shell.execute_reply": "2024-09-28T06:30:05.059962Z"
    },
    "papermill": {
     "duration": 0.017868,
     "end_time": "2024-09-28T06:30:05.063938",
     "exception": false,
     "start_time": "2024-09-28T06:30:05.046070",
     "status": "completed"
    },
    "tags": []
   },
   "outputs": [],
   "source": [
    "pipeline = Pipeline(steps=[(\"preprocessor\", preprocessor), (\"model\", model)])"
   ]
  },
  {
   "cell_type": "code",
   "execution_count": 15,
   "id": "9092f426",
   "metadata": {
    "execution": {
     "iopub.execute_input": "2024-09-28T06:30:05.079730Z",
     "iopub.status.busy": "2024-09-28T06:30:05.079232Z",
     "iopub.status.idle": "2024-09-28T06:30:48.597192Z",
     "shell.execute_reply": "2024-09-28T06:30:48.595883Z"
    },
    "papermill": {
     "duration": 43.536971,
     "end_time": "2024-09-28T06:30:48.607963",
     "exception": false,
     "start_time": "2024-09-28T06:30:05.070992",
     "status": "completed"
    },
    "tags": []
   },
   "outputs": [
    {
     "data": {
      "text/html": [
       "<style>#sk-container-id-1 {color: black;background-color: white;}#sk-container-id-1 pre{padding: 0;}#sk-container-id-1 div.sk-toggleable {background-color: white;}#sk-container-id-1 label.sk-toggleable__label {cursor: pointer;display: block;width: 100%;margin-bottom: 0;padding: 0.3em;box-sizing: border-box;text-align: center;}#sk-container-id-1 label.sk-toggleable__label-arrow:before {content: \"▸\";float: left;margin-right: 0.25em;color: #696969;}#sk-container-id-1 label.sk-toggleable__label-arrow:hover:before {color: black;}#sk-container-id-1 div.sk-estimator:hover label.sk-toggleable__label-arrow:before {color: black;}#sk-container-id-1 div.sk-toggleable__content {max-height: 0;max-width: 0;overflow: hidden;text-align: left;background-color: #f0f8ff;}#sk-container-id-1 div.sk-toggleable__content pre {margin: 0.2em;color: black;border-radius: 0.25em;background-color: #f0f8ff;}#sk-container-id-1 input.sk-toggleable__control:checked~div.sk-toggleable__content {max-height: 200px;max-width: 100%;overflow: auto;}#sk-container-id-1 input.sk-toggleable__control:checked~label.sk-toggleable__label-arrow:before {content: \"▾\";}#sk-container-id-1 div.sk-estimator input.sk-toggleable__control:checked~label.sk-toggleable__label {background-color: #d4ebff;}#sk-container-id-1 div.sk-label input.sk-toggleable__control:checked~label.sk-toggleable__label {background-color: #d4ebff;}#sk-container-id-1 input.sk-hidden--visually {border: 0;clip: rect(1px 1px 1px 1px);clip: rect(1px, 1px, 1px, 1px);height: 1px;margin: -1px;overflow: hidden;padding: 0;position: absolute;width: 1px;}#sk-container-id-1 div.sk-estimator {font-family: monospace;background-color: #f0f8ff;border: 1px dotted black;border-radius: 0.25em;box-sizing: border-box;margin-bottom: 0.5em;}#sk-container-id-1 div.sk-estimator:hover {background-color: #d4ebff;}#sk-container-id-1 div.sk-parallel-item::after {content: \"\";width: 100%;border-bottom: 1px solid gray;flex-grow: 1;}#sk-container-id-1 div.sk-label:hover label.sk-toggleable__label {background-color: #d4ebff;}#sk-container-id-1 div.sk-serial::before {content: \"\";position: absolute;border-left: 1px solid gray;box-sizing: border-box;top: 0;bottom: 0;left: 50%;z-index: 0;}#sk-container-id-1 div.sk-serial {display: flex;flex-direction: column;align-items: center;background-color: white;padding-right: 0.2em;padding-left: 0.2em;position: relative;}#sk-container-id-1 div.sk-item {position: relative;z-index: 1;}#sk-container-id-1 div.sk-parallel {display: flex;align-items: stretch;justify-content: center;background-color: white;position: relative;}#sk-container-id-1 div.sk-item::before, #sk-container-id-1 div.sk-parallel-item::before {content: \"\";position: absolute;border-left: 1px solid gray;box-sizing: border-box;top: 0;bottom: 0;left: 50%;z-index: -1;}#sk-container-id-1 div.sk-parallel-item {display: flex;flex-direction: column;z-index: 1;position: relative;background-color: white;}#sk-container-id-1 div.sk-parallel-item:first-child::after {align-self: flex-end;width: 50%;}#sk-container-id-1 div.sk-parallel-item:last-child::after {align-self: flex-start;width: 50%;}#sk-container-id-1 div.sk-parallel-item:only-child::after {width: 0;}#sk-container-id-1 div.sk-dashed-wrapped {border: 1px dashed gray;margin: 0 0.4em 0.5em 0.4em;box-sizing: border-box;padding-bottom: 0.4em;background-color: white;}#sk-container-id-1 div.sk-label label {font-family: monospace;font-weight: bold;display: inline-block;line-height: 1.2em;}#sk-container-id-1 div.sk-label-container {text-align: center;}#sk-container-id-1 div.sk-container {/* jupyter's `normalize.less` sets `[hidden] { display: none; }` but bootstrap.min.css set `[hidden] { display: none !important; }` so we also need the `!important` here to be able to override the default hidden behavior on the sphinx rendered scikit-learn.org. See: https://github.com/scikit-learn/scikit-learn/issues/21755 */display: inline-block !important;position: relative;}#sk-container-id-1 div.sk-text-repr-fallback {display: none;}</style><div id=\"sk-container-id-1\" class=\"sk-top-container\"><div class=\"sk-text-repr-fallback\"><pre>Pipeline(steps=[(&#x27;preprocessor&#x27;,\n",
       "                 ColumnTransformer(transformers=[(&#x27;num_mean&#x27;,\n",
       "                                                  Pipeline(steps=[(&#x27;imputer&#x27;,\n",
       "                                                                   SimpleImputer())]),\n",
       "                                                  [&#x27;model_year&#x27;, &#x27;milage&#x27;,\n",
       "                                                   &#x27;HP&#x27;]),\n",
       "                                                 (&#x27;num_zero&#x27;,\n",
       "                                                  Pipeline(steps=[(&#x27;imputer&#x27;,\n",
       "                                                                   SimpleImputer(fill_value=0,\n",
       "                                                                                 strategy=&#x27;constant&#x27;))]),\n",
       "                                                  [&#x27;L&#x27;, &#x27;Valves&#x27;, &#x27;Ah&#x27;, &#x27;FRKW&#x27;,\n",
       "                                                   &#x27;RRKW&#x27;, &#x27;Volts&#x27;]),\n",
       "                                                 (&#x27;target_enc&#x27;,\n",
       "                                                  Pipeline(steps=[(&#x27;target_encoder&#x27;,\n",
       "                                                                   TargetEncoder())]...\n",
       "                                                                                               &#x27;Mercury&#x27;,\n",
       "                                                                                               &#x27;Volkswagen&#x27;,\n",
       "                                                                                               &#x27;Lotus&#x27;,\n",
       "                                                                                               &#x27;Chrysler&#x27;,\n",
       "                                                                                               &#x27;Plymouth&#x27;,\n",
       "                                                                                               &#x27;Saab&#x27;,\n",
       "                                                                                               &#x27;Acura&#x27;,\n",
       "                                                                                               &#x27;Toyota&#x27;,\n",
       "                                                                                               &#x27;Nissan&#x27;,\n",
       "                                                                                               &#x27;Buick&#x27;,\n",
       "                                                                                               &#x27;Suzuki&#x27;,\n",
       "                                                                                               &#x27;Lincoln&#x27;,\n",
       "                                                                                               &#x27;Volvo&#x27;,\n",
       "                                                                                               &#x27;FIAT&#x27;,\n",
       "                                                                                               &#x27;Dodge&#x27;,\n",
       "                                                                                               &#x27;INFINITI&#x27;,\n",
       "                                                                                               &#x27;Jeep&#x27;,\n",
       "                                                                                               &#x27;smart&#x27;,\n",
       "                                                                                               &#x27;Lexus&#x27;,\n",
       "                                                                                               &#x27;Karma&#x27;, ...]]))]),\n",
       "                                                  [&#x27;brand&#x27;])])),\n",
       "                (&#x27;model&#x27;,\n",
       "                 HistGradientBoostingRegressor(l2_regularization=0.33,\n",
       "                                               learning_rate=0.038,\n",
       "                                               max_depth=430, max_iter=1389,\n",
       "                                               max_leaf_nodes=765,\n",
       "                                               min_samples_leaf=100))])</pre><b>In a Jupyter environment, please rerun this cell to show the HTML representation or trust the notebook. <br />On GitHub, the HTML representation is unable to render, please try loading this page with nbviewer.org.</b></div><div class=\"sk-container\" hidden><div class=\"sk-item sk-dashed-wrapped\"><div class=\"sk-label-container\"><div class=\"sk-label sk-toggleable\"><input class=\"sk-toggleable__control sk-hidden--visually\" id=\"sk-estimator-id-1\" type=\"checkbox\" ><label for=\"sk-estimator-id-1\" class=\"sk-toggleable__label sk-toggleable__label-arrow\">Pipeline</label><div class=\"sk-toggleable__content\"><pre>Pipeline(steps=[(&#x27;preprocessor&#x27;,\n",
       "                 ColumnTransformer(transformers=[(&#x27;num_mean&#x27;,\n",
       "                                                  Pipeline(steps=[(&#x27;imputer&#x27;,\n",
       "                                                                   SimpleImputer())]),\n",
       "                                                  [&#x27;model_year&#x27;, &#x27;milage&#x27;,\n",
       "                                                   &#x27;HP&#x27;]),\n",
       "                                                 (&#x27;num_zero&#x27;,\n",
       "                                                  Pipeline(steps=[(&#x27;imputer&#x27;,\n",
       "                                                                   SimpleImputer(fill_value=0,\n",
       "                                                                                 strategy=&#x27;constant&#x27;))]),\n",
       "                                                  [&#x27;L&#x27;, &#x27;Valves&#x27;, &#x27;Ah&#x27;, &#x27;FRKW&#x27;,\n",
       "                                                   &#x27;RRKW&#x27;, &#x27;Volts&#x27;]),\n",
       "                                                 (&#x27;target_enc&#x27;,\n",
       "                                                  Pipeline(steps=[(&#x27;target_encoder&#x27;,\n",
       "                                                                   TargetEncoder())]...\n",
       "                                                                                               &#x27;Mercury&#x27;,\n",
       "                                                                                               &#x27;Volkswagen&#x27;,\n",
       "                                                                                               &#x27;Lotus&#x27;,\n",
       "                                                                                               &#x27;Chrysler&#x27;,\n",
       "                                                                                               &#x27;Plymouth&#x27;,\n",
       "                                                                                               &#x27;Saab&#x27;,\n",
       "                                                                                               &#x27;Acura&#x27;,\n",
       "                                                                                               &#x27;Toyota&#x27;,\n",
       "                                                                                               &#x27;Nissan&#x27;,\n",
       "                                                                                               &#x27;Buick&#x27;,\n",
       "                                                                                               &#x27;Suzuki&#x27;,\n",
       "                                                                                               &#x27;Lincoln&#x27;,\n",
       "                                                                                               &#x27;Volvo&#x27;,\n",
       "                                                                                               &#x27;FIAT&#x27;,\n",
       "                                                                                               &#x27;Dodge&#x27;,\n",
       "                                                                                               &#x27;INFINITI&#x27;,\n",
       "                                                                                               &#x27;Jeep&#x27;,\n",
       "                                                                                               &#x27;smart&#x27;,\n",
       "                                                                                               &#x27;Lexus&#x27;,\n",
       "                                                                                               &#x27;Karma&#x27;, ...]]))]),\n",
       "                                                  [&#x27;brand&#x27;])])),\n",
       "                (&#x27;model&#x27;,\n",
       "                 HistGradientBoostingRegressor(l2_regularization=0.33,\n",
       "                                               learning_rate=0.038,\n",
       "                                               max_depth=430, max_iter=1389,\n",
       "                                               max_leaf_nodes=765,\n",
       "                                               min_samples_leaf=100))])</pre></div></div></div><div class=\"sk-serial\"><div class=\"sk-item sk-dashed-wrapped\"><div class=\"sk-label-container\"><div class=\"sk-label sk-toggleable\"><input class=\"sk-toggleable__control sk-hidden--visually\" id=\"sk-estimator-id-2\" type=\"checkbox\" ><label for=\"sk-estimator-id-2\" class=\"sk-toggleable__label sk-toggleable__label-arrow\">preprocessor: ColumnTransformer</label><div class=\"sk-toggleable__content\"><pre>ColumnTransformer(transformers=[(&#x27;num_mean&#x27;,\n",
       "                                 Pipeline(steps=[(&#x27;imputer&#x27;, SimpleImputer())]),\n",
       "                                 [&#x27;model_year&#x27;, &#x27;milage&#x27;, &#x27;HP&#x27;]),\n",
       "                                (&#x27;num_zero&#x27;,\n",
       "                                 Pipeline(steps=[(&#x27;imputer&#x27;,\n",
       "                                                  SimpleImputer(fill_value=0,\n",
       "                                                                strategy=&#x27;constant&#x27;))]),\n",
       "                                 [&#x27;L&#x27;, &#x27;Valves&#x27;, &#x27;Ah&#x27;, &#x27;FRKW&#x27;, &#x27;RRKW&#x27;,\n",
       "                                  &#x27;Volts&#x27;]),\n",
       "                                (&#x27;target_enc&#x27;,\n",
       "                                 Pipeline(steps=[(&#x27;target_encoder&#x27;,\n",
       "                                                  TargetEncoder())]),\n",
       "                                 []),\n",
       "                                (&#x27;cat_ord&#x27;,\n",
       "                                 Pipeline(steps=...\n",
       "                                (&#x27;brand&#x27;,\n",
       "                                 Pipeline(steps=[(&#x27;encoder&#x27;,\n",
       "                                                  OrdinalEncoder(categories=[[&#x27;Scion&#x27;,\n",
       "                                                                              &#x27;Hummer&#x27;,\n",
       "                                                                              &#x27;MINI&#x27;,\n",
       "                                                                              &#x27;Saturn&#x27;,\n",
       "                                                                              &#x27;Mitsubishi&#x27;,\n",
       "                                                                              &#x27;Subaru&#x27;,\n",
       "                                                                              &#x27;Pontiac&#x27;,\n",
       "                                                                              &#x27;Honda&#x27;,\n",
       "                                                                              &#x27;Mazda&#x27;,\n",
       "                                                                              &#x27;Hyundai&#x27;,\n",
       "                                                                              &#x27;Mercury&#x27;,\n",
       "                                                                              &#x27;Volkswagen&#x27;,\n",
       "                                                                              &#x27;Lotus&#x27;,\n",
       "                                                                              &#x27;Chrysler&#x27;,\n",
       "                                                                              &#x27;Plymouth&#x27;,\n",
       "                                                                              &#x27;Saab&#x27;,\n",
       "                                                                              &#x27;Acura&#x27;,\n",
       "                                                                              &#x27;Toyota&#x27;,\n",
       "                                                                              &#x27;Nissan&#x27;,\n",
       "                                                                              &#x27;Buick&#x27;,\n",
       "                                                                              &#x27;Suzuki&#x27;,\n",
       "                                                                              &#x27;Lincoln&#x27;,\n",
       "                                                                              &#x27;Volvo&#x27;,\n",
       "                                                                              &#x27;FIAT&#x27;,\n",
       "                                                                              &#x27;Dodge&#x27;,\n",
       "                                                                              &#x27;INFINITI&#x27;,\n",
       "                                                                              &#x27;Jeep&#x27;,\n",
       "                                                                              &#x27;smart&#x27;,\n",
       "                                                                              &#x27;Lexus&#x27;,\n",
       "                                                                              &#x27;Karma&#x27;, ...]]))]),\n",
       "                                 [&#x27;brand&#x27;])])</pre></div></div></div><div class=\"sk-parallel\"><div class=\"sk-parallel-item\"><div class=\"sk-item\"><div class=\"sk-label-container\"><div class=\"sk-label sk-toggleable\"><input class=\"sk-toggleable__control sk-hidden--visually\" id=\"sk-estimator-id-3\" type=\"checkbox\" ><label for=\"sk-estimator-id-3\" class=\"sk-toggleable__label sk-toggleable__label-arrow\">num_mean</label><div class=\"sk-toggleable__content\"><pre>[&#x27;model_year&#x27;, &#x27;milage&#x27;, &#x27;HP&#x27;]</pre></div></div></div><div class=\"sk-serial\"><div class=\"sk-item\"><div class=\"sk-serial\"><div class=\"sk-item\"><div class=\"sk-estimator sk-toggleable\"><input class=\"sk-toggleable__control sk-hidden--visually\" id=\"sk-estimator-id-4\" type=\"checkbox\" ><label for=\"sk-estimator-id-4\" class=\"sk-toggleable__label sk-toggleable__label-arrow\">SimpleImputer</label><div class=\"sk-toggleable__content\"><pre>SimpleImputer()</pre></div></div></div></div></div></div></div></div><div class=\"sk-parallel-item\"><div class=\"sk-item\"><div class=\"sk-label-container\"><div class=\"sk-label sk-toggleable\"><input class=\"sk-toggleable__control sk-hidden--visually\" id=\"sk-estimator-id-5\" type=\"checkbox\" ><label for=\"sk-estimator-id-5\" class=\"sk-toggleable__label sk-toggleable__label-arrow\">num_zero</label><div class=\"sk-toggleable__content\"><pre>[&#x27;L&#x27;, &#x27;Valves&#x27;, &#x27;Ah&#x27;, &#x27;FRKW&#x27;, &#x27;RRKW&#x27;, &#x27;Volts&#x27;]</pre></div></div></div><div class=\"sk-serial\"><div class=\"sk-item\"><div class=\"sk-serial\"><div class=\"sk-item\"><div class=\"sk-estimator sk-toggleable\"><input class=\"sk-toggleable__control sk-hidden--visually\" id=\"sk-estimator-id-6\" type=\"checkbox\" ><label for=\"sk-estimator-id-6\" class=\"sk-toggleable__label sk-toggleable__label-arrow\">SimpleImputer</label><div class=\"sk-toggleable__content\"><pre>SimpleImputer(fill_value=0, strategy=&#x27;constant&#x27;)</pre></div></div></div></div></div></div></div></div><div class=\"sk-parallel-item\"><div class=\"sk-item\"><div class=\"sk-label-container\"><div class=\"sk-label sk-toggleable\"><input class=\"sk-toggleable__control sk-hidden--visually\" id=\"sk-estimator-id-7\" type=\"checkbox\" ><label for=\"sk-estimator-id-7\" class=\"sk-toggleable__label sk-toggleable__label-arrow\">target_enc</label><div class=\"sk-toggleable__content\"><pre>[]</pre></div></div></div><div class=\"sk-serial\"><div class=\"sk-item\"><div class=\"sk-serial\"><div class=\"sk-item\"><div class=\"sk-estimator sk-toggleable\"><input class=\"sk-toggleable__control sk-hidden--visually\" id=\"sk-estimator-id-8\" type=\"checkbox\" ><label for=\"sk-estimator-id-8\" class=\"sk-toggleable__label sk-toggleable__label-arrow\">TargetEncoder</label><div class=\"sk-toggleable__content\"><pre>TargetEncoder()</pre></div></div></div></div></div></div></div></div><div class=\"sk-parallel-item\"><div class=\"sk-item\"><div class=\"sk-label-container\"><div class=\"sk-label sk-toggleable\"><input class=\"sk-toggleable__control sk-hidden--visually\" id=\"sk-estimator-id-9\" type=\"checkbox\" ><label for=\"sk-estimator-id-9\" class=\"sk-toggleable__label sk-toggleable__label-arrow\">cat_ord</label><div class=\"sk-toggleable__content\"><pre>[&#x27;model&#x27;, &#x27;ext_col&#x27;, &#x27;int_col&#x27;]</pre></div></div></div><div class=\"sk-serial\"><div class=\"sk-item\"><div class=\"sk-serial\"><div class=\"sk-item\"><div class=\"sk-estimator sk-toggleable\"><input class=\"sk-toggleable__control sk-hidden--visually\" id=\"sk-estimator-id-10\" type=\"checkbox\" ><label for=\"sk-estimator-id-10\" class=\"sk-toggleable__label sk-toggleable__label-arrow\">SimpleImputer</label><div class=\"sk-toggleable__content\"><pre>SimpleImputer(strategy=&#x27;most_frequent&#x27;)</pre></div></div></div><div class=\"sk-item\"><div class=\"sk-estimator sk-toggleable\"><input class=\"sk-toggleable__control sk-hidden--visually\" id=\"sk-estimator-id-11\" type=\"checkbox\" ><label for=\"sk-estimator-id-11\" class=\"sk-toggleable__label sk-toggleable__label-arrow\">OrdinalEncoder</label><div class=\"sk-toggleable__content\"><pre>OrdinalEncoder(handle_unknown=&#x27;use_encoded_value&#x27;, unknown_value=-1)</pre></div></div></div></div></div></div></div></div><div class=\"sk-parallel-item\"><div class=\"sk-item\"><div class=\"sk-label-container\"><div class=\"sk-label sk-toggleable\"><input class=\"sk-toggleable__control sk-hidden--visually\" id=\"sk-estimator-id-12\" type=\"checkbox\" ><label for=\"sk-estimator-id-12\" class=\"sk-toggleable__label sk-toggleable__label-arrow\">cat_onehot</label><div class=\"sk-toggleable__content\"><pre>[&#x27;fuel_type&#x27;, &#x27;transmission&#x27;, &#x27;Cylinders&#x27;, &#x27;Fuel_injection&#x27;, &#x27;Valve_train_design&#x27;, &#x27;Forced_induction&#x27;, &#x27;Engine_type&#x27;]</pre></div></div></div><div class=\"sk-serial\"><div class=\"sk-item\"><div class=\"sk-serial\"><div class=\"sk-item\"><div class=\"sk-estimator sk-toggleable\"><input class=\"sk-toggleable__control sk-hidden--visually\" id=\"sk-estimator-id-13\" type=\"checkbox\" ><label for=\"sk-estimator-id-13\" class=\"sk-toggleable__label sk-toggleable__label-arrow\">SimpleImputer</label><div class=\"sk-toggleable__content\"><pre>SimpleImputer(strategy=&#x27;most_frequent&#x27;)</pre></div></div></div><div class=\"sk-item\"><div class=\"sk-estimator sk-toggleable\"><input class=\"sk-toggleable__control sk-hidden--visually\" id=\"sk-estimator-id-14\" type=\"checkbox\" ><label for=\"sk-estimator-id-14\" class=\"sk-toggleable__label sk-toggleable__label-arrow\">OneHotEncoder</label><div class=\"sk-toggleable__content\"><pre>OneHotEncoder(handle_unknown=&#x27;ignore&#x27;, sparse_output=False)</pre></div></div></div></div></div></div></div></div><div class=\"sk-parallel-item\"><div class=\"sk-item\"><div class=\"sk-label-container\"><div class=\"sk-label sk-toggleable\"><input class=\"sk-toggleable__control sk-hidden--visually\" id=\"sk-estimator-id-15\" type=\"checkbox\" ><label for=\"sk-estimator-id-15\" class=\"sk-toggleable__label sk-toggleable__label-arrow\">brand</label><div class=\"sk-toggleable__content\"><pre>[&#x27;brand&#x27;]</pre></div></div></div><div class=\"sk-serial\"><div class=\"sk-item\"><div class=\"sk-serial\"><div class=\"sk-item\"><div class=\"sk-estimator sk-toggleable\"><input class=\"sk-toggleable__control sk-hidden--visually\" id=\"sk-estimator-id-16\" type=\"checkbox\" ><label for=\"sk-estimator-id-16\" class=\"sk-toggleable__label sk-toggleable__label-arrow\">OrdinalEncoder</label><div class=\"sk-toggleable__content\"><pre>OrdinalEncoder(categories=[[&#x27;Scion&#x27;, &#x27;Hummer&#x27;, &#x27;MINI&#x27;, &#x27;Saturn&#x27;, &#x27;Mitsubishi&#x27;,\n",
       "                            &#x27;Subaru&#x27;, &#x27;Pontiac&#x27;, &#x27;Honda&#x27;, &#x27;Mazda&#x27;, &#x27;Hyundai&#x27;,\n",
       "                            &#x27;Mercury&#x27;, &#x27;Volkswagen&#x27;, &#x27;Lotus&#x27;, &#x27;Chrysler&#x27;,\n",
       "                            &#x27;Plymouth&#x27;, &#x27;Saab&#x27;, &#x27;Acura&#x27;, &#x27;Toyota&#x27;, &#x27;Nissan&#x27;,\n",
       "                            &#x27;Buick&#x27;, &#x27;Suzuki&#x27;, &#x27;Lincoln&#x27;, &#x27;Volvo&#x27;, &#x27;FIAT&#x27;,\n",
       "                            &#x27;Dodge&#x27;, &#x27;INFINITI&#x27;, &#x27;Jeep&#x27;, &#x27;smart&#x27;, &#x27;Lexus&#x27;,\n",
       "                            &#x27;Karma&#x27;, ...]])</pre></div></div></div></div></div></div></div></div></div></div><div class=\"sk-item\"><div class=\"sk-estimator sk-toggleable\"><input class=\"sk-toggleable__control sk-hidden--visually\" id=\"sk-estimator-id-17\" type=\"checkbox\" ><label for=\"sk-estimator-id-17\" class=\"sk-toggleable__label sk-toggleable__label-arrow\">HistGradientBoostingRegressor</label><div class=\"sk-toggleable__content\"><pre>HistGradientBoostingRegressor(l2_regularization=0.33, learning_rate=0.038,\n",
       "                              max_depth=430, max_iter=1389, max_leaf_nodes=765,\n",
       "                              min_samples_leaf=100)</pre></div></div></div></div></div></div></div>"
      ],
      "text/plain": [
       "Pipeline(steps=[('preprocessor',\n",
       "                 ColumnTransformer(transformers=[('num_mean',\n",
       "                                                  Pipeline(steps=[('imputer',\n",
       "                                                                   SimpleImputer())]),\n",
       "                                                  ['model_year', 'milage',\n",
       "                                                   'HP']),\n",
       "                                                 ('num_zero',\n",
       "                                                  Pipeline(steps=[('imputer',\n",
       "                                                                   SimpleImputer(fill_value=0,\n",
       "                                                                                 strategy='constant'))]),\n",
       "                                                  ['L', 'Valves', 'Ah', 'FRKW',\n",
       "                                                   'RRKW', 'Volts']),\n",
       "                                                 ('target_enc',\n",
       "                                                  Pipeline(steps=[('target_encoder',\n",
       "                                                                   TargetEncoder())]...\n",
       "                                                                                               'Mercury',\n",
       "                                                                                               'Volkswagen',\n",
       "                                                                                               'Lotus',\n",
       "                                                                                               'Chrysler',\n",
       "                                                                                               'Plymouth',\n",
       "                                                                                               'Saab',\n",
       "                                                                                               'Acura',\n",
       "                                                                                               'Toyota',\n",
       "                                                                                               'Nissan',\n",
       "                                                                                               'Buick',\n",
       "                                                                                               'Suzuki',\n",
       "                                                                                               'Lincoln',\n",
       "                                                                                               'Volvo',\n",
       "                                                                                               'FIAT',\n",
       "                                                                                               'Dodge',\n",
       "                                                                                               'INFINITI',\n",
       "                                                                                               'Jeep',\n",
       "                                                                                               'smart',\n",
       "                                                                                               'Lexus',\n",
       "                                                                                               'Karma', ...]]))]),\n",
       "                                                  ['brand'])])),\n",
       "                ('model',\n",
       "                 HistGradientBoostingRegressor(l2_regularization=0.33,\n",
       "                                               learning_rate=0.038,\n",
       "                                               max_depth=430, max_iter=1389,\n",
       "                                               max_leaf_nodes=765,\n",
       "                                               min_samples_leaf=100))])"
      ]
     },
     "execution_count": 15,
     "metadata": {},
     "output_type": "execute_result"
    }
   ],
   "source": [
    "pipeline.fit(X,y)"
   ]
  },
  {
   "cell_type": "code",
   "execution_count": 16,
   "id": "17072e6e",
   "metadata": {
    "execution": {
     "iopub.execute_input": "2024-09-28T06:30:48.624929Z",
     "iopub.status.busy": "2024-09-28T06:30:48.624487Z",
     "iopub.status.idle": "2024-09-28T06:30:51.340864Z",
     "shell.execute_reply": "2024-09-28T06:30:51.339723Z"
    },
    "papermill": {
     "duration": 2.728347,
     "end_time": "2024-09-28T06:30:51.343807",
     "exception": false,
     "start_time": "2024-09-28T06:30:48.615460",
     "status": "completed"
    },
    "tags": []
   },
   "outputs": [
    {
     "data": {
      "text/plain": [
       "array([18368.06386922, 78004.76315954, 56024.59999205, ...,\n",
       "       22880.25366778, 15389.97668443, 35649.4313783 ])"
      ]
     },
     "execution_count": 16,
     "metadata": {},
     "output_type": "execute_result"
    }
   ],
   "source": [
    "preds = pipeline.predict(test)\n",
    "preds"
   ]
  },
  {
   "cell_type": "code",
   "execution_count": 17,
   "id": "b4a0aa5f",
   "metadata": {
    "execution": {
     "iopub.execute_input": "2024-09-28T06:30:51.362036Z",
     "iopub.status.busy": "2024-09-28T06:30:51.361610Z",
     "iopub.status.idle": "2024-09-28T06:30:51.825559Z",
     "shell.execute_reply": "2024-09-28T06:30:51.824405Z"
    },
    "papermill": {
     "duration": 0.475871,
     "end_time": "2024-09-28T06:30:51.828379",
     "exception": false,
     "start_time": "2024-09-28T06:30:51.352508",
     "status": "completed"
    },
    "tags": []
   },
   "outputs": [],
   "source": [
    "submission_file = test.reset_index()[['id']]\n",
    "submission_file['price'] = preds\n",
    "submission_file = submission_file.set_index(\"id\")\n",
    "submission_file.to_csv(\"/kaggle/working/submission.csv\")"
   ]
  },
  {
   "cell_type": "code",
   "execution_count": null,
   "id": "3a0f05bf",
   "metadata": {
    "papermill": {
     "duration": 0.007337,
     "end_time": "2024-09-28T06:30:51.843597",
     "exception": false,
     "start_time": "2024-09-28T06:30:51.836260",
     "status": "completed"
    },
    "tags": []
   },
   "outputs": [],
   "source": []
  }
 ],
 "metadata": {
  "kaggle": {
   "accelerator": "none",
   "dataSources": [
    {
     "databundleVersionId": 9057646,
     "sourceId": 76728,
     "sourceType": "competition"
    }
   ],
   "dockerImageVersionId": 30775,
   "isGpuEnabled": false,
   "isInternetEnabled": true,
   "language": "python",
   "sourceType": "notebook"
  },
  "kernelspec": {
   "display_name": "Python 3",
   "language": "python",
   "name": "python3"
  },
  "language_info": {
   "codemirror_mode": {
    "name": "ipython",
    "version": 3
   },
   "file_extension": ".py",
   "mimetype": "text/x-python",
   "name": "python",
   "nbconvert_exporter": "python",
   "pygments_lexer": "ipython3",
   "version": "3.10.14"
  },
  "papermill": {
   "default_parameters": {},
   "duration": 63.485465,
   "end_time": "2024-09-28T06:30:53.075541",
   "environment_variables": {},
   "exception": null,
   "input_path": "__notebook__.ipynb",
   "output_path": "__notebook__.ipynb",
   "parameters": {},
   "start_time": "2024-09-28T06:29:49.590076",
   "version": "2.6.0"
  }
 },
 "nbformat": 4,
 "nbformat_minor": 5
}
